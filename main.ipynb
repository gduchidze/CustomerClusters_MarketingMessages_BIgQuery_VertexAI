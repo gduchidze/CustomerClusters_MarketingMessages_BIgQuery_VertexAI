{
  "nbformat": 4,
  "nbformat_minor": 0,
  "metadata": {
    "colab": {
      "name": "Demo notebook",
      "provenance": []
    },
    "kernelspec": {
      "name": "python3",
      "display_name": "Python 3"
    },
    "language_info": {
      "name": "python"
    }
  },
  "cells": [
    {
      "cell_type": "markdown",
      "source": [
        "#Generate customer clusters and marketing messages with BigQuery DataFrames and GenAI\n",
        "\n",
        "##Overview\n",
        "Within the **BigQuery Studio** workspace, you can use a Colab Enterprise notebook interface and a workspace to save and share your notebooks. The notebooks come with **BigQuery DataFrames**, which provide a Pythonic DataFrame and ML API powered by the BigQuery engine. The operations happen in BigQuery at scale rather than within the notebook runtime.\n",
        "\n",
        "*   [bigframes.pandas](https://cloud.google.com/python/docs/reference/bigframes/latest/bigframes.dataframe.DataFrame) provides a pandas-compatible API for analytics.\n",
        "*   [bigframes.ml](https://cloud.google.com/python/docs/reference/bigframes/latest/bigframes.ml.cluster) provides a scikit-learn-like API for ML.\n",
        "*   [bigframes.ml.llm](https://cloud.google.com/python/docs/reference/bigframes/latest/bigframes.ml.llm) provides LLM capabilities.\n",
        "\n",
        "BigQuery DataFrames is an open-source Python package. It is pre-installed on  BigQuery Studio Python notebooks.  Additionally, you can always run `pip install --upgrade bigframes` to install the latest version.\n",
        "\n",
        "\n",
        "\n",
        "## Objectives\n",
        "This example illustrates a common Data to AI journey from data exploration to constructing a k-means machine learning model with BigFrames to segment customers of similar behaviors and demographics. Subsequently, Generative AI is applied to leverage cluster information and customer messaging to activate marketing campaigns. In doing so, you can build a data-centric, personalized marketing campaign all from BigQuery!\n",
        "\n",
        "In this tutorial, you will:\n",
        "\n",
        "* Generate features using BigQuery DataFrames\n",
        "* Perform basic data exploration\n",
        "* Implement a k-means clustering model with BigFrames\n",
        "* Produce cluster descriptive statistics\n",
        "* Utilize Generative AI to articulate ML model outputs in natural language for business users\n",
        "* (Bonus) Use Generative AI to craft engaging emails tailored to customer segments.\n",
        "\n",
        "\n",
        "\n",
        "\n",
        "###Helpful Links\n",
        "\n",
        "* [BigFrames API Reference](https://cloud.google.com/python/docs/reference/bigframes/latest)\n",
        "\n",
        "\n",
        "* [BigFrames GitHub page with sample notebooks](https://github.com/googleapis/python-bigquery-dataframes)\n",
        "\n",
        "* [Troubleshooting notebook runtimes](https://cloud.google.com/colab/docs/troubleshooting)\n"
      ],
      "metadata": {
        "id": "Sxq-V_jV4gEk"
      }
    },
    {
      "cell_type": "markdown",
      "source": [
        "## Before you Begin : Setup Steps\n"
      ],
      "metadata": {
        "id": "05KJTULrIrbP"
      }
    },
    {
      "cell_type": "markdown",
      "source": [
        "## Install the `bigframes` package."
      ],
      "metadata": {
        "id": "Fo3s2ujertLo"
      }
    },
    {
      "cell_type": "code",
      "source": [
        "!pip install --upgrade bigframes"
      ],
      "metadata": {
        "id": "SNJdanrQM0IT",
        "colab": {
          "base_uri": "https://localhost:8080/"
        },
        "executionInfo": {
          "status": "ok",
          "timestamp": 1728366286583,
          "user_tz": -240,
          "elapsed": 8142,
          "user": {
            "displayName": "",
            "userId": ""
          }
        },
        "outputId": "1c00dd59-4588-4b34-8e9d-0353504d3fbc"
      },
      "execution_count": 1,
      "outputs": [
        {
          "output_type": "stream",
          "name": "stdout",
          "text": [
            "Requirement already satisfied: bigframes in /usr/local/lib/python3.10/dist-packages (1.18.0)\n",
            "Collecting bigframes\n",
            "  Downloading bigframes-1.21.0-py2.py3-none-any.whl.metadata (5.0 kB)\n",
            "Requirement already satisfied: cloudpickle>=2.0.0 in /usr/local/lib/python3.10/dist-packages (from bigframes) (2.2.1)\n",
            "Requirement already satisfied: fsspec>=2023.3.0 in /usr/local/lib/python3.10/dist-packages (from bigframes) (2024.6.1)\n",
            "Requirement already satisfied: gcsfs>=2023.3.0 in /usr/local/lib/python3.10/dist-packages (from bigframes) (2024.6.1)\n",
            "Requirement already satisfied: geopandas>=0.12.2 in /usr/local/lib/python3.10/dist-packages (from bigframes) (1.0.1)\n",
            "Requirement already satisfied: google-auth<3.0dev,>=2.15.0 in /usr/local/lib/python3.10/dist-packages (from bigframes) (2.27.0)\n",
            "Requirement already satisfied: google-cloud-bigtable>=2.24.0 in /usr/local/lib/python3.10/dist-packages (from bigframes) (2.26.0)\n",
            "Requirement already satisfied: google-cloud-pubsub>=2.21.4 in /usr/local/lib/python3.10/dist-packages (from bigframes) (2.23.1)\n",
            "Requirement already satisfied: google-cloud-bigquery>=3.16.0 in /usr/local/lib/python3.10/dist-packages (from google-cloud-bigquery[bqstorage,pandas]>=3.16.0->bigframes) (3.25.0)\n",
            "Requirement already satisfied: google-cloud-functions>=1.12.0 in /usr/local/lib/python3.10/dist-packages (from bigframes) (1.16.5)\n",
            "Requirement already satisfied: google-cloud-bigquery-connection>=1.12.0 in /usr/local/lib/python3.10/dist-packages (from bigframes) (1.15.5)\n",
            "Requirement already satisfied: google-cloud-iam>=2.12.1 in /usr/local/lib/python3.10/dist-packages (from bigframes) (2.15.2)\n",
            "Requirement already satisfied: google-cloud-resource-manager>=1.10.3 in /usr/local/lib/python3.10/dist-packages (from bigframes) (1.12.5)\n",
            "Requirement already satisfied: google-cloud-storage>=2.0.0 in /usr/local/lib/python3.10/dist-packages (from bigframes) (2.8.0)\n",
            "Requirement already satisfied: ibis-framework<=9.2.0,>=9.0.0 in /usr/local/lib/python3.10/dist-packages (from ibis-framework[bigquery]<=9.2.0,>=9.0.0->bigframes) (9.2.0)\n",
            "Requirement already satisfied: jellyfish>=0.8.9 in /usr/local/lib/python3.10/dist-packages (from bigframes) (1.1.0)\n",
            "Requirement already satisfied: numpy>=1.24.0 in /usr/local/lib/python3.10/dist-packages (from bigframes) (1.26.4)\n",
            "Requirement already satisfied: pandas>=1.5.3 in /usr/local/lib/python3.10/dist-packages (from bigframes) (2.1.4)\n",
            "Requirement already satisfied: pyarrow>=10.0.1 in /usr/local/lib/python3.10/dist-packages (from bigframes) (14.0.2)\n",
            "Requirement already satisfied: pydata-google-auth>=1.8.2 in /usr/local/lib/python3.10/dist-packages (from bigframes) (1.8.2)\n",
            "Requirement already satisfied: requests>=2.27.1 in /usr/local/lib/python3.10/dist-packages (from bigframes) (2.32.3)\n",
            "Requirement already satisfied: scikit-learn>=1.2.2 in /usr/local/lib/python3.10/dist-packages (from bigframes) (1.5.2)\n",
            "Requirement already satisfied: sqlalchemy<3.0dev,>=1.4 in /usr/local/lib/python3.10/dist-packages (from bigframes) (2.0.35)\n",
            "Requirement already satisfied: sqlglot<25.2,>=23.6.3 in /usr/local/lib/python3.10/dist-packages (from bigframes) (25.1.0)\n",
            "Requirement already satisfied: tabulate>=0.9 in /usr/local/lib/python3.10/dist-packages (from bigframes) (0.9.0)\n",
            "Requirement already satisfied: ipywidgets>=7.7.1 in /usr/local/lib/python3.10/dist-packages (from bigframes) (7.7.1)\n",
            "Requirement already satisfied: humanize>=4.6.0 in /usr/local/lib/python3.10/dist-packages (from bigframes) (4.10.0)\n",
            "Requirement already satisfied: matplotlib>=3.7.1 in /usr/local/lib/python3.10/dist-packages (from bigframes) (3.7.1)\n",
            "Requirement already satisfied: aiohttp!=4.0.0a0,!=4.0.0a1 in /usr/local/lib/python3.10/dist-packages (from gcsfs>=2023.3.0->bigframes) (3.10.5)\n",
            "Requirement already satisfied: decorator>4.1.2 in /usr/local/lib/python3.10/dist-packages (from gcsfs>=2023.3.0->bigframes) (4.4.2)\n",
            "Requirement already satisfied: google-auth-oauthlib in /usr/local/lib/python3.10/dist-packages (from gcsfs>=2023.3.0->bigframes) (1.2.1)\n",
            "Requirement already satisfied: pyogrio>=0.7.2 in /usr/local/lib/python3.10/dist-packages (from geopandas>=0.12.2->bigframes) (0.9.0)\n",
            "Requirement already satisfied: packaging in /usr/local/lib/python3.10/dist-packages (from geopandas>=0.12.2->bigframes) (24.1)\n",
            "Requirement already satisfied: pyproj>=3.3.0 in /usr/local/lib/python3.10/dist-packages (from geopandas>=0.12.2->bigframes) (3.6.1)\n",
            "Requirement already satisfied: shapely>=2.0.0 in /usr/local/lib/python3.10/dist-packages (from geopandas>=0.12.2->bigframes) (2.0.6)\n",
            "Requirement already satisfied: cachetools<6.0,>=2.0.0 in /usr/local/lib/python3.10/dist-packages (from google-auth<3.0dev,>=2.15.0->bigframes) (5.5.0)\n",
            "Requirement already satisfied: pyasn1-modules>=0.2.1 in /usr/local/lib/python3.10/dist-packages (from google-auth<3.0dev,>=2.15.0->bigframes) (0.4.1)\n",
            "Requirement already satisfied: rsa<5,>=3.1.4 in /usr/local/lib/python3.10/dist-packages (from google-auth<3.0dev,>=2.15.0->bigframes) (4.9)\n",
            "Requirement already satisfied: google-api-core!=2.0.*,!=2.1.*,!=2.10.*,!=2.2.*,!=2.3.*,!=2.4.*,!=2.5.*,!=2.6.*,!=2.7.*,!=2.8.*,!=2.9.*,<3.0.0dev,>=1.34.1 in /usr/local/lib/python3.10/dist-packages (from google-api-core[grpc]!=2.0.*,!=2.1.*,!=2.10.*,!=2.2.*,!=2.3.*,!=2.4.*,!=2.5.*,!=2.6.*,!=2.7.*,!=2.8.*,!=2.9.*,<3.0.0dev,>=1.34.1->google-cloud-bigquery>=3.16.0->google-cloud-bigquery[bqstorage,pandas]>=3.16.0->bigframes) (2.19.2)\n",
            "Requirement already satisfied: google-cloud-core<3.0.0dev,>=1.6.0 in /usr/local/lib/python3.10/dist-packages (from google-cloud-bigquery>=3.16.0->google-cloud-bigquery[bqstorage,pandas]>=3.16.0->bigframes) (2.4.1)\n",
            "Requirement already satisfied: google-resumable-media<3.0dev,>=0.6.0 in /usr/local/lib/python3.10/dist-packages (from google-cloud-bigquery>=3.16.0->google-cloud-bigquery[bqstorage,pandas]>=3.16.0->bigframes) (2.7.2)\n",
            "Requirement already satisfied: python-dateutil<3.0dev,>=2.7.2 in /usr/local/lib/python3.10/dist-packages (from google-cloud-bigquery>=3.16.0->google-cloud-bigquery[bqstorage,pandas]>=3.16.0->bigframes) (2.8.2)\n",
            "Requirement already satisfied: proto-plus<2.0.0dev,>=1.22.3 in /usr/local/lib/python3.10/dist-packages (from google-cloud-bigquery-connection>=1.12.0->bigframes) (1.24.0)\n",
            "Requirement already satisfied: protobuf!=4.21.0,!=4.21.1,!=4.21.2,!=4.21.3,!=4.21.4,!=4.21.5,<6.0.0dev,>=3.20.2 in /usr/local/lib/python3.10/dist-packages (from google-cloud-bigquery-connection>=1.12.0->bigframes) (3.20.3)\n",
            "Requirement already satisfied: grpc-google-iam-v1<1.0.0dev,>=0.12.4 in /usr/local/lib/python3.10/dist-packages (from google-cloud-bigquery-connection>=1.12.0->bigframes) (0.13.1)\n",
            "Requirement already satisfied: db-dtypes<2.0.0dev,>=0.3.0 in /usr/local/lib/python3.10/dist-packages (from google-cloud-bigquery[bqstorage,pandas]>=3.16.0->bigframes) (1.3.0)\n",
            "Requirement already satisfied: google-cloud-bigquery-storage<3.0.0dev,>=2.6.0 in /usr/local/lib/python3.10/dist-packages (from google-cloud-bigquery[bqstorage,pandas]>=3.16.0->bigframes) (2.26.0)\n",
            "Requirement already satisfied: grpcio<2.0dev,>=1.47.0 in /usr/local/lib/python3.10/dist-packages (from google-cloud-bigquery[bqstorage,pandas]>=3.16.0->bigframes) (1.64.1)\n",
            "Requirement already satisfied: grpcio-status>=1.33.2 in /usr/local/lib/python3.10/dist-packages (from google-cloud-pubsub>=2.21.4->bigframes) (1.48.2)\n",
            "Requirement already satisfied: atpublic<5,>=2.3 in /usr/local/lib/python3.10/dist-packages (from ibis-framework<=9.2.0,>=9.0.0->ibis-framework[bigquery]<=9.2.0,>=9.0.0->bigframes) (4.1.0)\n",
            "Requirement already satisfied: parsy<3,>=2 in /usr/local/lib/python3.10/dist-packages (from ibis-framework<=9.2.0,>=9.0.0->ibis-framework[bigquery]<=9.2.0,>=9.0.0->bigframes) (2.1)\n",
            "Requirement already satisfied: pytz>=2022.7 in /usr/local/lib/python3.10/dist-packages (from ibis-framework<=9.2.0,>=9.0.0->ibis-framework[bigquery]<=9.2.0,>=9.0.0->bigframes) (2024.2)\n",
            "Requirement already satisfied: rich<14,>=12.4.4 in /usr/local/lib/python3.10/dist-packages (from ibis-framework<=9.2.0,>=9.0.0->ibis-framework[bigquery]<=9.2.0,>=9.0.0->bigframes) (13.8.1)\n",
            "Requirement already satisfied: toolz<1,>=0.11 in /usr/local/lib/python3.10/dist-packages (from ibis-framework<=9.2.0,>=9.0.0->ibis-framework[bigquery]<=9.2.0,>=9.0.0->bigframes) (0.12.1)\n",
            "Requirement already satisfied: typing-extensions<5,>=4.3.0 in /usr/local/lib/python3.10/dist-packages (from ibis-framework<=9.2.0,>=9.0.0->ibis-framework[bigquery]<=9.2.0,>=9.0.0->bigframes) (4.12.2)\n",
            "Requirement already satisfied: pyarrow-hotfix<1,>=0.4 in /usr/local/lib/python3.10/dist-packages (from ibis-framework[bigquery]<=9.2.0,>=9.0.0->bigframes) (0.6)\n",
            "Requirement already satisfied: ipykernel>=4.5.1 in /usr/local/lib/python3.10/dist-packages (from ipywidgets>=7.7.1->bigframes) (5.5.6)\n",
            "Requirement already satisfied: ipython-genutils~=0.2.0 in /usr/local/lib/python3.10/dist-packages (from ipywidgets>=7.7.1->bigframes) (0.2.0)\n",
            "Requirement already satisfied: traitlets>=4.3.1 in /usr/local/lib/python3.10/dist-packages (from ipywidgets>=7.7.1->bigframes) (5.7.1)\n",
            "Requirement already satisfied: widgetsnbextension~=3.6.0 in /usr/local/lib/python3.10/dist-packages (from ipywidgets>=7.7.1->bigframes) (3.6.9)\n",
            "Requirement already satisfied: ipython>=4.0.0 in /usr/local/lib/python3.10/dist-packages (from ipywidgets>=7.7.1->bigframes) (7.34.0)\n",
            "Requirement already satisfied: jupyterlab-widgets>=1.0.0 in /usr/local/lib/python3.10/dist-packages (from ipywidgets>=7.7.1->bigframes) (3.0.13)\n",
            "Requirement already satisfied: contourpy>=1.0.1 in /usr/local/lib/python3.10/dist-packages (from matplotlib>=3.7.1->bigframes) (1.3.0)\n",
            "Requirement already satisfied: cycler>=0.10 in /usr/local/lib/python3.10/dist-packages (from matplotlib>=3.7.1->bigframes) (0.12.1)\n",
            "Requirement already satisfied: fonttools>=4.22.0 in /usr/local/lib/python3.10/dist-packages (from matplotlib>=3.7.1->bigframes) (4.53.1)\n",
            "Requirement already satisfied: kiwisolver>=1.0.1 in /usr/local/lib/python3.10/dist-packages (from matplotlib>=3.7.1->bigframes) (1.4.7)\n",
            "Requirement already satisfied: pillow>=6.2.0 in /usr/local/lib/python3.10/dist-packages (from matplotlib>=3.7.1->bigframes) (10.4.0)\n",
            "Requirement already satisfied: pyparsing>=2.3.1 in /usr/local/lib/python3.10/dist-packages (from matplotlib>=3.7.1->bigframes) (3.1.4)\n",
            "Requirement already satisfied: tzdata>=2022.1 in /usr/local/lib/python3.10/dist-packages (from pandas>=1.5.3->bigframes) (2024.1)\n",
            "Requirement already satisfied: setuptools in /usr/local/lib/python3.10/dist-packages (from pydata-google-auth>=1.8.2->bigframes) (69.5.1)\n",
            "Requirement already satisfied: charset-normalizer<4,>=2 in /usr/local/lib/python3.10/dist-packages (from requests>=2.27.1->bigframes) (3.3.2)\n",
            "Requirement already satisfied: idna<4,>=2.5 in /usr/local/lib/python3.10/dist-packages (from requests>=2.27.1->bigframes) (3.10)\n",
            "Requirement already satisfied: urllib3<3,>=1.21.1 in /usr/local/lib/python3.10/dist-packages (from requests>=2.27.1->bigframes) (2.2.3)\n",
            "Requirement already satisfied: certifi>=2017.4.17 in /usr/local/lib/python3.10/dist-packages (from requests>=2.27.1->bigframes) (2024.8.30)\n",
            "Requirement already satisfied: scipy>=1.6.0 in /usr/local/lib/python3.10/dist-packages (from scikit-learn>=1.2.2->bigframes) (1.13.1)\n",
            "Requirement already satisfied: joblib>=1.2.0 in /usr/local/lib/python3.10/dist-packages (from scikit-learn>=1.2.2->bigframes) (1.4.2)\n",
            "Requirement already satisfied: threadpoolctl>=3.1.0 in /usr/local/lib/python3.10/dist-packages (from scikit-learn>=1.2.2->bigframes) (3.5.0)\n",
            "Requirement already satisfied: greenlet!=0.4.17 in /usr/local/lib/python3.10/dist-packages (from sqlalchemy<3.0dev,>=1.4->bigframes) (3.1.1)\n",
            "Requirement already satisfied: aiohappyeyeballs>=2.3.0 in /usr/local/lib/python3.10/dist-packages (from aiohttp!=4.0.0a0,!=4.0.0a1->gcsfs>=2023.3.0->bigframes) (2.4.0)\n",
            "Requirement already satisfied: aiosignal>=1.1.2 in /usr/local/lib/python3.10/dist-packages (from aiohttp!=4.0.0a0,!=4.0.0a1->gcsfs>=2023.3.0->bigframes) (1.3.1)\n",
            "Requirement already satisfied: attrs>=17.3.0 in /usr/local/lib/python3.10/dist-packages (from aiohttp!=4.0.0a0,!=4.0.0a1->gcsfs>=2023.3.0->bigframes) (24.2.0)\n",
            "Requirement already satisfied: frozenlist>=1.1.1 in /usr/local/lib/python3.10/dist-packages (from aiohttp!=4.0.0a0,!=4.0.0a1->gcsfs>=2023.3.0->bigframes) (1.4.1)\n",
            "Requirement already satisfied: multidict<7.0,>=4.5 in /usr/local/lib/python3.10/dist-packages (from aiohttp!=4.0.0a0,!=4.0.0a1->gcsfs>=2023.3.0->bigframes) (6.1.0)\n",
            "Requirement already satisfied: yarl<2.0,>=1.0 in /usr/local/lib/python3.10/dist-packages (from aiohttp!=4.0.0a0,!=4.0.0a1->gcsfs>=2023.3.0->bigframes) (1.11.1)\n",
            "Requirement already satisfied: async-timeout<5.0,>=4.0 in /usr/local/lib/python3.10/dist-packages (from aiohttp!=4.0.0a0,!=4.0.0a1->gcsfs>=2023.3.0->bigframes) (4.0.3)\n",
            "Requirement already satisfied: googleapis-common-protos<2.0.dev0,>=1.56.2 in /usr/local/lib/python3.10/dist-packages (from google-api-core!=2.0.*,!=2.1.*,!=2.10.*,!=2.2.*,!=2.3.*,!=2.4.*,!=2.5.*,!=2.6.*,!=2.7.*,!=2.8.*,!=2.9.*,<3.0.0dev,>=1.34.1->google-api-core[grpc]!=2.0.*,!=2.1.*,!=2.10.*,!=2.2.*,!=2.3.*,!=2.4.*,!=2.5.*,!=2.6.*,!=2.7.*,!=2.8.*,!=2.9.*,<3.0.0dev,>=1.34.1->google-cloud-bigquery>=3.16.0->google-cloud-bigquery[bqstorage,pandas]>=3.16.0->bigframes) (1.65.0)\n",
            "Requirement already satisfied: requests-oauthlib>=0.7.0 in /usr/local/lib/python3.10/dist-packages (from google-auth-oauthlib->gcsfs>=2023.3.0->bigframes) (1.3.1)\n",
            "Requirement already satisfied: google-crc32c<2.0dev,>=1.0 in /usr/local/lib/python3.10/dist-packages (from google-resumable-media<3.0dev,>=0.6.0->google-cloud-bigquery>=3.16.0->google-cloud-bigquery[bqstorage,pandas]>=3.16.0->bigframes) (1.6.0)\n",
            "Requirement already satisfied: jupyter-client in /usr/local/lib/python3.10/dist-packages (from ipykernel>=4.5.1->ipywidgets>=7.7.1->bigframes) (6.1.12)\n",
            "Requirement already satisfied: tornado>=4.2 in /usr/local/lib/python3.10/dist-packages (from ipykernel>=4.5.1->ipywidgets>=7.7.1->bigframes) (6.3.3)\n",
            "Collecting jedi>=0.16 (from ipython>=4.0.0->ipywidgets>=7.7.1->bigframes)\n",
            "  Using cached jedi-0.19.1-py2.py3-none-any.whl.metadata (22 kB)\n",
            "Requirement already satisfied: pickleshare in /usr/local/lib/python3.10/dist-packages (from ipython>=4.0.0->ipywidgets>=7.7.1->bigframes) (0.7.5)\n",
            "Requirement already satisfied: prompt-toolkit!=3.0.0,!=3.0.1,<3.1.0,>=2.0.0 in /usr/local/lib/python3.10/dist-packages (from ipython>=4.0.0->ipywidgets>=7.7.1->bigframes) (3.0.47)\n",
            "Requirement already satisfied: pygments in /usr/local/lib/python3.10/dist-packages (from ipython>=4.0.0->ipywidgets>=7.7.1->bigframes) (2.18.0)\n",
            "Requirement already satisfied: backcall in /usr/local/lib/python3.10/dist-packages (from ipython>=4.0.0->ipywidgets>=7.7.1->bigframes) (0.2.0)\n",
            "Requirement already satisfied: matplotlib-inline in /usr/local/lib/python3.10/dist-packages (from ipython>=4.0.0->ipywidgets>=7.7.1->bigframes) (0.1.7)\n",
            "Requirement already satisfied: pexpect>4.3 in /usr/local/lib/python3.10/dist-packages (from ipython>=4.0.0->ipywidgets>=7.7.1->bigframes) (4.9.0)\n",
            "Requirement already satisfied: pyasn1<0.7.0,>=0.4.6 in /usr/local/lib/python3.10/dist-packages (from pyasn1-modules>=0.2.1->google-auth<3.0dev,>=2.15.0->bigframes) (0.6.1)\n",
            "Requirement already satisfied: six>=1.5 in /usr/local/lib/python3.10/dist-packages (from python-dateutil<3.0dev,>=2.7.2->google-cloud-bigquery>=3.16.0->google-cloud-bigquery[bqstorage,pandas]>=3.16.0->bigframes) (1.16.0)\n",
            "Requirement already satisfied: markdown-it-py>=2.2.0 in /usr/local/lib/python3.10/dist-packages (from rich<14,>=12.4.4->ibis-framework<=9.2.0,>=9.0.0->ibis-framework[bigquery]<=9.2.0,>=9.0.0->bigframes) (3.0.0)\n",
            "Requirement already satisfied: notebook>=4.4.1 in /usr/local/lib/python3.10/dist-packages (from widgetsnbextension~=3.6.0->ipywidgets>=7.7.1->bigframes) (6.5.5)\n",
            "Requirement already satisfied: parso<0.9.0,>=0.8.3 in /usr/local/lib/python3.10/dist-packages (from jedi>=0.16->ipython>=4.0.0->ipywidgets>=7.7.1->bigframes) (0.8.4)\n",
            "Requirement already satisfied: mdurl~=0.1 in /usr/local/lib/python3.10/dist-packages (from markdown-it-py>=2.2.0->rich<14,>=12.4.4->ibis-framework<=9.2.0,>=9.0.0->ibis-framework[bigquery]<=9.2.0,>=9.0.0->bigframes) (0.1.2)\n",
            "Requirement already satisfied: jinja2 in /usr/local/lib/python3.10/dist-packages (from notebook>=4.4.1->widgetsnbextension~=3.6.0->ipywidgets>=7.7.1->bigframes) (3.1.4)\n",
            "Requirement already satisfied: pyzmq<25,>=17 in /usr/local/lib/python3.10/dist-packages (from notebook>=4.4.1->widgetsnbextension~=3.6.0->ipywidgets>=7.7.1->bigframes) (24.0.1)\n",
            "Requirement already satisfied: argon2-cffi in /usr/local/lib/python3.10/dist-packages (from notebook>=4.4.1->widgetsnbextension~=3.6.0->ipywidgets>=7.7.1->bigframes) (23.1.0)\n",
            "Requirement already satisfied: jupyter-core>=4.6.1 in /usr/local/lib/python3.10/dist-packages (from notebook>=4.4.1->widgetsnbextension~=3.6.0->ipywidgets>=7.7.1->bigframes) (5.7.2)\n",
            "Requirement already satisfied: nbformat in /usr/local/lib/python3.10/dist-packages (from notebook>=4.4.1->widgetsnbextension~=3.6.0->ipywidgets>=7.7.1->bigframes) (5.10.4)\n",
            "Requirement already satisfied: nbconvert>=5 in /usr/local/lib/python3.10/dist-packages (from notebook>=4.4.1->widgetsnbextension~=3.6.0->ipywidgets>=7.7.1->bigframes) (6.5.4)\n",
            "Requirement already satisfied: nest-asyncio>=1.5 in /usr/local/lib/python3.10/dist-packages (from notebook>=4.4.1->widgetsnbextension~=3.6.0->ipywidgets>=7.7.1->bigframes) (1.6.0)\n",
            "Requirement already satisfied: Send2Trash>=1.8.0 in /usr/local/lib/python3.10/dist-packages (from notebook>=4.4.1->widgetsnbextension~=3.6.0->ipywidgets>=7.7.1->bigframes) (1.8.3)\n",
            "Requirement already satisfied: terminado>=0.8.3 in /usr/local/lib/python3.10/dist-packages (from notebook>=4.4.1->widgetsnbextension~=3.6.0->ipywidgets>=7.7.1->bigframes) (0.18.1)\n",
            "Requirement already satisfied: prometheus-client in /usr/local/lib/python3.10/dist-packages (from notebook>=4.4.1->widgetsnbextension~=3.6.0->ipywidgets>=7.7.1->bigframes) (0.21.0)\n",
            "Requirement already satisfied: nbclassic>=0.4.7 in /usr/local/lib/python3.10/dist-packages (from notebook>=4.4.1->widgetsnbextension~=3.6.0->ipywidgets>=7.7.1->bigframes) (1.1.0)\n",
            "Requirement already satisfied: ptyprocess>=0.5 in /usr/local/lib/python3.10/dist-packages (from pexpect>4.3->ipython>=4.0.0->ipywidgets>=7.7.1->bigframes) (0.7.0)\n",
            "Requirement already satisfied: wcwidth in /usr/local/lib/python3.10/dist-packages (from prompt-toolkit!=3.0.0,!=3.0.1,<3.1.0,>=2.0.0->ipython>=4.0.0->ipywidgets>=7.7.1->bigframes) (0.2.13)\n",
            "Requirement already satisfied: oauthlib>=3.0.0 in /usr/local/lib/python3.10/dist-packages (from requests-oauthlib>=0.7.0->google-auth-oauthlib->gcsfs>=2023.3.0->bigframes) (3.2.2)\n",
            "Requirement already satisfied: platformdirs>=2.5 in /usr/local/lib/python3.10/dist-packages (from jupyter-core>=4.6.1->notebook>=4.4.1->widgetsnbextension~=3.6.0->ipywidgets>=7.7.1->bigframes) (4.3.6)\n",
            "Requirement already satisfied: notebook-shim>=0.2.3 in /usr/local/lib/python3.10/dist-packages (from nbclassic>=0.4.7->notebook>=4.4.1->widgetsnbextension~=3.6.0->ipywidgets>=7.7.1->bigframes) (0.2.4)\n",
            "Requirement already satisfied: lxml in /usr/local/lib/python3.10/dist-packages (from nbconvert>=5->notebook>=4.4.1->widgetsnbextension~=3.6.0->ipywidgets>=7.7.1->bigframes) (4.9.4)\n",
            "Requirement already satisfied: beautifulsoup4 in /usr/local/lib/python3.10/dist-packages (from nbconvert>=5->notebook>=4.4.1->widgetsnbextension~=3.6.0->ipywidgets>=7.7.1->bigframes) (4.12.3)\n",
            "Requirement already satisfied: bleach in /usr/local/lib/python3.10/dist-packages (from nbconvert>=5->notebook>=4.4.1->widgetsnbextension~=3.6.0->ipywidgets>=7.7.1->bigframes) (6.1.0)\n",
            "Requirement already satisfied: defusedxml in /usr/local/lib/python3.10/dist-packages (from nbconvert>=5->notebook>=4.4.1->widgetsnbextension~=3.6.0->ipywidgets>=7.7.1->bigframes) (0.7.1)\n",
            "Requirement already satisfied: entrypoints>=0.2.2 in /usr/local/lib/python3.10/dist-packages (from nbconvert>=5->notebook>=4.4.1->widgetsnbextension~=3.6.0->ipywidgets>=7.7.1->bigframes) (0.4)\n",
            "Requirement already satisfied: jupyterlab-pygments in /usr/local/lib/python3.10/dist-packages (from nbconvert>=5->notebook>=4.4.1->widgetsnbextension~=3.6.0->ipywidgets>=7.7.1->bigframes) (0.3.0)\n",
            "Requirement already satisfied: MarkupSafe>=2.0 in /usr/local/lib/python3.10/dist-packages (from nbconvert>=5->notebook>=4.4.1->widgetsnbextension~=3.6.0->ipywidgets>=7.7.1->bigframes) (2.1.5)\n",
            "Requirement already satisfied: mistune<2,>=0.8.1 in /usr/local/lib/python3.10/dist-packages (from nbconvert>=5->notebook>=4.4.1->widgetsnbextension~=3.6.0->ipywidgets>=7.7.1->bigframes) (0.8.4)\n",
            "Requirement already satisfied: nbclient>=0.5.0 in /usr/local/lib/python3.10/dist-packages (from nbconvert>=5->notebook>=4.4.1->widgetsnbextension~=3.6.0->ipywidgets>=7.7.1->bigframes) (0.10.0)\n",
            "Requirement already satisfied: pandocfilters>=1.4.1 in /usr/local/lib/python3.10/dist-packages (from nbconvert>=5->notebook>=4.4.1->widgetsnbextension~=3.6.0->ipywidgets>=7.7.1->bigframes) (1.5.1)\n",
            "Requirement already satisfied: tinycss2 in /usr/local/lib/python3.10/dist-packages (from nbconvert>=5->notebook>=4.4.1->widgetsnbextension~=3.6.0->ipywidgets>=7.7.1->bigframes) (1.3.0)\n",
            "Requirement already satisfied: fastjsonschema>=2.15 in /usr/local/lib/python3.10/dist-packages (from nbformat->notebook>=4.4.1->widgetsnbextension~=3.6.0->ipywidgets>=7.7.1->bigframes) (2.20.0)\n",
            "Requirement already satisfied: jsonschema>=2.6 in /usr/local/lib/python3.10/dist-packages (from nbformat->notebook>=4.4.1->widgetsnbextension~=3.6.0->ipywidgets>=7.7.1->bigframes) (4.23.0)\n",
            "Requirement already satisfied: argon2-cffi-bindings in /usr/local/lib/python3.10/dist-packages (from argon2-cffi->notebook>=4.4.1->widgetsnbextension~=3.6.0->ipywidgets>=7.7.1->bigframes) (21.2.0)\n",
            "Requirement already satisfied: jsonschema-specifications>=2023.03.6 in /usr/local/lib/python3.10/dist-packages (from jsonschema>=2.6->nbformat->notebook>=4.4.1->widgetsnbextension~=3.6.0->ipywidgets>=7.7.1->bigframes) (2023.12.1)\n",
            "Requirement already satisfied: referencing>=0.28.4 in /usr/local/lib/python3.10/dist-packages (from jsonschema>=2.6->nbformat->notebook>=4.4.1->widgetsnbextension~=3.6.0->ipywidgets>=7.7.1->bigframes) (0.35.1)\n",
            "Requirement already satisfied: rpds-py>=0.7.1 in /usr/local/lib/python3.10/dist-packages (from jsonschema>=2.6->nbformat->notebook>=4.4.1->widgetsnbextension~=3.6.0->ipywidgets>=7.7.1->bigframes) (0.20.0)\n",
            "Requirement already satisfied: jupyter-server<3,>=1.8 in /usr/local/lib/python3.10/dist-packages (from notebook-shim>=0.2.3->nbclassic>=0.4.7->notebook>=4.4.1->widgetsnbextension~=3.6.0->ipywidgets>=7.7.1->bigframes) (1.24.0)\n",
            "Requirement already satisfied: cffi>=1.0.1 in /usr/local/lib/python3.10/dist-packages (from argon2-cffi-bindings->argon2-cffi->notebook>=4.4.1->widgetsnbextension~=3.6.0->ipywidgets>=7.7.1->bigframes) (1.17.1)\n",
            "Requirement already satisfied: soupsieve>1.2 in /usr/local/lib/python3.10/dist-packages (from beautifulsoup4->nbconvert>=5->notebook>=4.4.1->widgetsnbextension~=3.6.0->ipywidgets>=7.7.1->bigframes) (2.6)\n",
            "Requirement already satisfied: webencodings in /usr/local/lib/python3.10/dist-packages (from bleach->nbconvert>=5->notebook>=4.4.1->widgetsnbextension~=3.6.0->ipywidgets>=7.7.1->bigframes) (0.5.1)\n",
            "Requirement already satisfied: pycparser in /usr/local/lib/python3.10/dist-packages (from cffi>=1.0.1->argon2-cffi-bindings->argon2-cffi->notebook>=4.4.1->widgetsnbextension~=3.6.0->ipywidgets>=7.7.1->bigframes) (2.22)\n",
            "Requirement already satisfied: anyio<4,>=3.1.0 in /usr/local/lib/python3.10/dist-packages (from jupyter-server<3,>=1.8->notebook-shim>=0.2.3->nbclassic>=0.4.7->notebook>=4.4.1->widgetsnbextension~=3.6.0->ipywidgets>=7.7.1->bigframes) (3.7.1)\n",
            "Requirement already satisfied: websocket-client in /usr/local/lib/python3.10/dist-packages (from jupyter-server<3,>=1.8->notebook-shim>=0.2.3->nbclassic>=0.4.7->notebook>=4.4.1->widgetsnbextension~=3.6.0->ipywidgets>=7.7.1->bigframes) (1.8.0)\n",
            "Requirement already satisfied: sniffio>=1.1 in /usr/local/lib/python3.10/dist-packages (from anyio<4,>=3.1.0->jupyter-server<3,>=1.8->notebook-shim>=0.2.3->nbclassic>=0.4.7->notebook>=4.4.1->widgetsnbextension~=3.6.0->ipywidgets>=7.7.1->bigframes) (1.3.1)\n",
            "Requirement already satisfied: exceptiongroup in /usr/local/lib/python3.10/dist-packages (from anyio<4,>=3.1.0->jupyter-server<3,>=1.8->notebook-shim>=0.2.3->nbclassic>=0.4.7->notebook>=4.4.1->widgetsnbextension~=3.6.0->ipywidgets>=7.7.1->bigframes) (1.2.2)\n",
            "Downloading bigframes-1.21.0-py2.py3-none-any.whl (716 kB)\n",
            "\u001b[2K   \u001b[90m━━━━━━━━━━━━━━━━━━━━━━━━━━━━━━━━━━━━━━━━\u001b[0m \u001b[32m716.7/716.7 kB\u001b[0m \u001b[31m37.4 MB/s\u001b[0m eta \u001b[36m0:00:00\u001b[0m\n",
            "\u001b[?25hUsing cached jedi-0.19.1-py2.py3-none-any.whl (1.6 MB)\n",
            "Installing collected packages: jedi, bigframes\n",
            "  Attempting uninstall: bigframes\n",
            "    Found existing installation: bigframes 1.18.0\n",
            "    Uninstalling bigframes-1.18.0:\n",
            "      Successfully uninstalled bigframes-1.18.0\n",
            "Successfully installed bigframes-1.21.0 jedi-0.19.1\n"
          ]
        }
      ]
    },
    {
      "cell_type": "markdown",
      "source": [
        "## Define notebook variables\n",
        "\n",
        "Please update variables like your GCP Project ID (`PROJECT_ID`), dataset name (`DATASET_NAME`), and location (`LOCATION`).\n",
        "\n",
        "The variables `DATASET_NAME`, `LOCATION` and `MODEL_NAME` are pre-populated, but you can update them if you wish.\n",
        "\n",
        "Ensure that the dataset exists in the same GCP Project as `PROJECT_ID`."
      ],
      "metadata": {
        "id": "sHoUOuxf5GOR"
      }
    },
    {
      "cell_type": "code",
      "source": [
        "#@title Setup Project Variables { run: \"auto\", display-mode: \"form\" }\n",
        "PROJECT_ID = \"airy-ranger-437306-b3\" #@param {type:\"string\"}\n",
        "DATASET_NAME = \"theLook_retail\" #@param {type:\"string\"}\n",
        "MODEL_NAME = \"bqdf_customer_segment_cluster\" #@param {type:\"string\"}\n",
        "EVAL_NAME = MODEL_NAME + \"_eval\"\n",
        "LOCATION = \"US\"  # @param {type:\"string\"}\n",
        "from google.cloud import bigquery\n",
        "client = bigquery.Client()"
      ],
      "metadata": {
        "id": "_3Rfhx874F2J",
        "executionInfo": {
          "status": "ok",
          "timestamp": 1728366322498,
          "user_tz": -240,
          "elapsed": 1887,
          "user": {
            "displayName": "",
            "userId": ""
          }
        }
      },
      "execution_count": 3,
      "outputs": []
    },
    {
      "cell_type": "code",
      "source": [
        "dataset = client.create_dataset(DATASET_NAME, timeout=30)  # Make an API request.\n",
        "print(\"Created dataset {}.{}\".format(client.project, dataset.dataset_id))"
      ],
      "metadata": {
        "id": "wHJfWWBTumIu"
      },
      "execution_count": null,
      "outputs": []
    },
    {
      "cell_type": "markdown",
      "source": [
        "\n",
        "\n",
        "---\n",
        "\n"
      ],
      "metadata": {
        "id": "P-eLlA_0dj8p"
      }
    },
    {
      "cell_type": "markdown",
      "source": [
        "## Step 1 : Basic Exploratory Data Analysis\n",
        "To kick things off, let's first inspect our data prior to constructing any models. Within this tutorial, we'll be working with the [theLook eCommerce public dataset](https://console.cloud.google.com/marketplace/product/bigquery-public-data/thelook-ecommerce).\n",
        "\n",
        "TheLook is an imaginary eCommerce apparel website. Within this dataset, you'll discover details about customers, products, orders, logistics, web events, and digital marketing campaigns. Our main emphasis is the `order_items` table, which contains transactional insights about customers. It's important to note that the contents of this dataset are artificially generated and are made available to professionals in the industry for the purposes of product exploration, testing, and assessment.\n",
        "\n",
        "There are a few ways we can query data and get it into a dataframe. Here are two approaches:"
      ],
      "metadata": {
        "id": "IOlN-lku6KPi"
      }
    },
    {
      "cell_type": "markdown",
      "source": [
        "#### **Initializing BigQuery Dataframes**\n",
        "\n",
        "Import bigframes.pandas for a pandas-like interface. Use the Python SDK to bring data into a dataframe."
      ],
      "metadata": {
        "id": "5Ss_JcgU6dxL"
      }
    },
    {
      "cell_type": "code",
      "source": [
        "import bigframes as bf\n",
        "import bigframes.pandas as bpd"
      ],
      "metadata": {
        "id": "QlW51RNDNEw-",
        "executionInfo": {
          "status": "ok",
          "timestamp": 1728366328683,
          "user_tz": -240,
          "elapsed": 2047,
          "user": {
            "displayName": "",
            "userId": ""
          }
        }
      },
      "execution_count": 4,
      "outputs": []
    },
    {
      "cell_type": "markdown",
      "source": [
        "BigQuery DataFrames uses a BigQuery session internally to manage metadata on the service side. This session is tied to a location . BigQuery DataFrames uses the US multi-region as the default location, but you can use session_options.location to set a different location. Every query in a session is executed in the location where the session was created."
      ],
      "metadata": {
        "id": "wEQpRmHws1WW"
      }
    },
    {
      "cell_type": "code",
      "source": [
        "bf.options.bigquery.project = PROJECT_ID\n",
        "bf.options.bigquery.location = LOCATION"
      ],
      "metadata": {
        "id": "qR-GYJlTORxf",
        "executionInfo": {
          "status": "ok",
          "timestamp": 1728366330318,
          "user_tz": -240,
          "elapsed": 2,
          "user": {
            "displayName": "",
            "userId": ""
          }
        }
      },
      "execution_count": 5,
      "outputs": []
    },
    {
      "cell_type": "markdown",
      "source": [
        "If you want to reset the location of the created DataFrame or Series objects, reset the session by executing `bf.close_session()`. After that, you can reuse `bf.options.bigquery.location` to specify another lo"
      ],
      "metadata": {
        "id": "LlE01FGFsT8d"
      }
    },
    {
      "cell_type": "markdown",
      "source": [
        " #### **`read_gbq` function**\n",
        " The `read_gbq` method accepts either a fully-qualified table ID or a SQL query."
      ],
      "metadata": {
        "id": "Fugedzw5shoX"
      }
    },
    {
      "cell_type": "code",
      "source": [
        "df = bpd.read_gbq(\"bigquery-public-data.thelook_ecommerce.order_items\")\n",
        "df"
      ],
      "metadata": {
        "id": "RzXhD_KYNX25",
        "colab": {
          "base_uri": "https://localhost:8080/",
          "height": 510
        },
        "executionInfo": {
          "status": "ok",
          "timestamp": 1728366349744,
          "user_tz": -240,
          "elapsed": 17406,
          "user": {
            "displayName": "",
            "userId": ""
          }
        },
        "outputId": "36629d0f-ba98-4f10-f531-0c5c3778ab95"
      },
      "execution_count": 6,
      "outputs": [
        {
          "output_type": "stream",
          "name": "stdout",
          "text": [
            "WARNING: google.colab.auth.authenticate_user() is not supported in Colab Enterprise.\n"
          ]
        },
        {
          "output_type": "display_data",
          "data": {
            "text/plain": [
              "<IPython.core.display.HTML object>"
            ],
            "text/html": [
              "Query job ce37a290-78ef-42ba-8a1e-5a07389d47f8 is DONE. 13.6 MB processed. <a target=\"_blank\" href=\"https://console.cloud.google.com/bigquery?project=airy-ranger-437306-b3&j=bq:US:ce37a290-78ef-42ba-8a1e-5a07389d47f8&page=queryresults\">Open Job</a>"
            ]
          },
          "metadata": {}
        },
        {
          "output_type": "display_data",
          "data": {
            "text/plain": [
              "<IPython.core.display.HTML object>"
            ],
            "text/html": [
              "Query job 038829a3-4861-48b0-80e7-c636ce2fc9b3 is DONE. 16.5 MB processed. <a target=\"_blank\" href=\"https://console.cloud.google.com/bigquery?project=airy-ranger-437306-b3&j=bq:US:038829a3-4861-48b0-80e7-c636ce2fc9b3&page=queryresults\">Open Job</a>"
            ]
          },
          "metadata": {}
        },
        {
          "output_type": "display_data",
          "data": {
            "text/plain": [
              "<IPython.core.display.HTML object>"
            ],
            "text/html": [
              "Query job a312c2c7-1d1c-40ef-8829-7207ccfd56c4 is DONE. 16.5 MB processed. <a target=\"_blank\" href=\"https://console.cloud.google.com/bigquery?project=airy-ranger-437306-b3&j=bq:US:a312c2c7-1d1c-40ef-8829-7207ccfd56c4&page=queryresults\">Open Job</a>"
            ]
          },
          "metadata": {}
        },
        {
          "output_type": "execute_result",
          "data": {
            "text/plain": [
              "            id  order_id  user_id  product_id  inventory_item_id      status  \\\n",
              "0        69447     48089    38423       18106             187556   Cancelled   \n",
              "1         1528      1042      805         314               4096  Processing   \n",
              "2        77390     53608    42880       20605             208946    Complete   \n",
              "3       110841     76707    61364       12733             299354  Processing   \n",
              "4        58868     40672    32492        7689             159007     Shipped   \n",
              "...        ...       ...      ...         ...                ...         ...   \n",
              "181237   79947     55397    44326       28440             215834    Returned   \n",
              "181238  157900    109048    87039       27939             426525    Complete   \n",
              "181239  103946     71951    57582       15864             280759    Returned   \n",
              "181240  131899     91200    72871       10408             356206   Cancelled   \n",
              "181241   10618      7318     5731        4904              28625     Shipped   \n",
              "\n",
              "                       created_at                 shipped_at  \\\n",
              "0       2023-12-02 16:43:19+00:00                       <NA>   \n",
              "1       2024-01-28 06:38:26+00:00                       <NA>   \n",
              "2       2024-07-16 00:19:33+00:00  2024-07-14 11:57:00+00:00   \n",
              "3       2024-03-22 06:36:40+00:00                       <NA>   \n",
              "4       2023-05-08 06:09:48+00:00  2023-05-10 02:03:00+00:00   \n",
              "...                           ...                        ...   \n",
              "181237  2024-03-05 10:48:42+00:00  2024-03-06 09:07:00+00:00   \n",
              "181238  2023-05-08 04:44:58+00:00  2023-05-09 10:53:00+00:00   \n",
              "181239  2023-04-18 16:29:56+00:00  2023-04-16 00:25:00+00:00   \n",
              "181240  2024-08-19 17:07:21+00:00                       <NA>   \n",
              "181241  2023-01-24 06:54:03+00:00  2023-01-23 18:22:00+00:00   \n",
              "\n",
              "                     delivered_at                returned_at  sale_price  \n",
              "0                            <NA>                       <NA>       15.99  \n",
              "1                            <NA>                       <NA>       110.0  \n",
              "2       2024-07-15 20:01:00+00:00                       <NA>        68.0  \n",
              "3                            <NA>                       <NA>       108.5  \n",
              "4                            <NA>                       <NA>   44.779999  \n",
              "...                           ...                        ...         ...  \n",
              "181237  2024-03-10 00:33:00+00:00  2024-03-10 13:21:00+00:00       180.0  \n",
              "181238  2023-05-12 11:41:00+00:00                       <NA>       56.25  \n",
              "181239  2023-04-19 12:13:00+00:00  2023-04-20 20:16:00+00:00        5.99  \n",
              "181240                       <NA>                       <NA>       16.98  \n",
              "181241                       <NA>                       <NA>       178.0  \n",
              "...\n",
              "\n",
              "[181242 rows x 11 columns]"
            ],
            "text/html": [
              "<div>\n",
              "<style scoped>\n",
              "    .dataframe tbody tr th:only-of-type {\n",
              "        vertical-align: middle;\n",
              "    }\n",
              "\n",
              "    .dataframe tbody tr th {\n",
              "        vertical-align: top;\n",
              "    }\n",
              "\n",
              "    .dataframe thead th {\n",
              "        text-align: right;\n",
              "    }\n",
              "</style>\n",
              "<table border=\"1\" class=\"dataframe\">\n",
              "  <thead>\n",
              "    <tr style=\"text-align: right;\">\n",
              "      <th></th>\n",
              "      <th>id</th>\n",
              "      <th>order_id</th>\n",
              "      <th>user_id</th>\n",
              "      <th>product_id</th>\n",
              "      <th>inventory_item_id</th>\n",
              "      <th>status</th>\n",
              "      <th>created_at</th>\n",
              "      <th>shipped_at</th>\n",
              "      <th>delivered_at</th>\n",
              "      <th>returned_at</th>\n",
              "      <th>sale_price</th>\n",
              "    </tr>\n",
              "  </thead>\n",
              "  <tbody>\n",
              "    <tr>\n",
              "      <th>0</th>\n",
              "      <td>69447</td>\n",
              "      <td>48089</td>\n",
              "      <td>38423</td>\n",
              "      <td>18106</td>\n",
              "      <td>187556</td>\n",
              "      <td>Cancelled</td>\n",
              "      <td>2023-12-02 16:43:19+00:00</td>\n",
              "      <td>&lt;NA&gt;</td>\n",
              "      <td>&lt;NA&gt;</td>\n",
              "      <td>&lt;NA&gt;</td>\n",
              "      <td>15.99</td>\n",
              "    </tr>\n",
              "    <tr>\n",
              "      <th>1</th>\n",
              "      <td>1528</td>\n",
              "      <td>1042</td>\n",
              "      <td>805</td>\n",
              "      <td>314</td>\n",
              "      <td>4096</td>\n",
              "      <td>Processing</td>\n",
              "      <td>2024-01-28 06:38:26+00:00</td>\n",
              "      <td>&lt;NA&gt;</td>\n",
              "      <td>&lt;NA&gt;</td>\n",
              "      <td>&lt;NA&gt;</td>\n",
              "      <td>110.0</td>\n",
              "    </tr>\n",
              "    <tr>\n",
              "      <th>2</th>\n",
              "      <td>77390</td>\n",
              "      <td>53608</td>\n",
              "      <td>42880</td>\n",
              "      <td>20605</td>\n",
              "      <td>208946</td>\n",
              "      <td>Complete</td>\n",
              "      <td>2024-07-16 00:19:33+00:00</td>\n",
              "      <td>2024-07-14 11:57:00+00:00</td>\n",
              "      <td>2024-07-15 20:01:00+00:00</td>\n",
              "      <td>&lt;NA&gt;</td>\n",
              "      <td>68.0</td>\n",
              "    </tr>\n",
              "    <tr>\n",
              "      <th>3</th>\n",
              "      <td>110841</td>\n",
              "      <td>76707</td>\n",
              "      <td>61364</td>\n",
              "      <td>12733</td>\n",
              "      <td>299354</td>\n",
              "      <td>Processing</td>\n",
              "      <td>2024-03-22 06:36:40+00:00</td>\n",
              "      <td>&lt;NA&gt;</td>\n",
              "      <td>&lt;NA&gt;</td>\n",
              "      <td>&lt;NA&gt;</td>\n",
              "      <td>108.5</td>\n",
              "    </tr>\n",
              "    <tr>\n",
              "      <th>4</th>\n",
              "      <td>58868</td>\n",
              "      <td>40672</td>\n",
              "      <td>32492</td>\n",
              "      <td>7689</td>\n",
              "      <td>159007</td>\n",
              "      <td>Shipped</td>\n",
              "      <td>2023-05-08 06:09:48+00:00</td>\n",
              "      <td>2023-05-10 02:03:00+00:00</td>\n",
              "      <td>&lt;NA&gt;</td>\n",
              "      <td>&lt;NA&gt;</td>\n",
              "      <td>44.779999</td>\n",
              "    </tr>\n",
              "    <tr>\n",
              "      <th>...</th>\n",
              "      <td>...</td>\n",
              "      <td>...</td>\n",
              "      <td>...</td>\n",
              "      <td>...</td>\n",
              "      <td>...</td>\n",
              "      <td>...</td>\n",
              "      <td>...</td>\n",
              "      <td>...</td>\n",
              "      <td>...</td>\n",
              "      <td>...</td>\n",
              "      <td>...</td>\n",
              "    </tr>\n",
              "    <tr>\n",
              "      <th>181237</th>\n",
              "      <td>79947</td>\n",
              "      <td>55397</td>\n",
              "      <td>44326</td>\n",
              "      <td>28440</td>\n",
              "      <td>215834</td>\n",
              "      <td>Returned</td>\n",
              "      <td>2024-03-05 10:48:42+00:00</td>\n",
              "      <td>2024-03-06 09:07:00+00:00</td>\n",
              "      <td>2024-03-10 00:33:00+00:00</td>\n",
              "      <td>2024-03-10 13:21:00+00:00</td>\n",
              "      <td>180.0</td>\n",
              "    </tr>\n",
              "    <tr>\n",
              "      <th>181238</th>\n",
              "      <td>157900</td>\n",
              "      <td>109048</td>\n",
              "      <td>87039</td>\n",
              "      <td>27939</td>\n",
              "      <td>426525</td>\n",
              "      <td>Complete</td>\n",
              "      <td>2023-05-08 04:44:58+00:00</td>\n",
              "      <td>2023-05-09 10:53:00+00:00</td>\n",
              "      <td>2023-05-12 11:41:00+00:00</td>\n",
              "      <td>&lt;NA&gt;</td>\n",
              "      <td>56.25</td>\n",
              "    </tr>\n",
              "    <tr>\n",
              "      <th>181239</th>\n",
              "      <td>103946</td>\n",
              "      <td>71951</td>\n",
              "      <td>57582</td>\n",
              "      <td>15864</td>\n",
              "      <td>280759</td>\n",
              "      <td>Returned</td>\n",
              "      <td>2023-04-18 16:29:56+00:00</td>\n",
              "      <td>2023-04-16 00:25:00+00:00</td>\n",
              "      <td>2023-04-19 12:13:00+00:00</td>\n",
              "      <td>2023-04-20 20:16:00+00:00</td>\n",
              "      <td>5.99</td>\n",
              "    </tr>\n",
              "    <tr>\n",
              "      <th>181240</th>\n",
              "      <td>131899</td>\n",
              "      <td>91200</td>\n",
              "      <td>72871</td>\n",
              "      <td>10408</td>\n",
              "      <td>356206</td>\n",
              "      <td>Cancelled</td>\n",
              "      <td>2024-08-19 17:07:21+00:00</td>\n",
              "      <td>&lt;NA&gt;</td>\n",
              "      <td>&lt;NA&gt;</td>\n",
              "      <td>&lt;NA&gt;</td>\n",
              "      <td>16.98</td>\n",
              "    </tr>\n",
              "    <tr>\n",
              "      <th>181241</th>\n",
              "      <td>10618</td>\n",
              "      <td>7318</td>\n",
              "      <td>5731</td>\n",
              "      <td>4904</td>\n",
              "      <td>28625</td>\n",
              "      <td>Shipped</td>\n",
              "      <td>2023-01-24 06:54:03+00:00</td>\n",
              "      <td>2023-01-23 18:22:00+00:00</td>\n",
              "      <td>&lt;NA&gt;</td>\n",
              "      <td>&lt;NA&gt;</td>\n",
              "      <td>178.0</td>\n",
              "    </tr>\n",
              "  </tbody>\n",
              "</table>\n",
              "<p>181242 rows × 11 columns</p>\n",
              "</div>[181242 rows x 11 columns in total]"
            ]
          },
          "metadata": {},
          "execution_count": 6
        }
      ]
    },
    {
      "cell_type": "markdown",
      "source": [
        "#### **Restricting Dataframe columns**\n",
        "Next, Choosing a restricted set of features for the purpose of conducting feature engineering."
      ],
      "metadata": {
        "id": "xC0_CcriIO9J"
      }
    },
    {
      "cell_type": "code",
      "source": [
        "df = df[[\"user_id\", \"order_id\", \"sale_price\", \"created_at\", \"status\"]].rename(columns={\"created_at\": \"order_created_date\"})\n",
        "df"
      ],
      "metadata": {
        "id": "kdNMJnBLOvi6",
        "colab": {
          "base_uri": "https://localhost:8080/",
          "height": 476
        },
        "executionInfo": {
          "status": "ok",
          "timestamp": 1728366359954,
          "user_tz": -240,
          "elapsed": 5725,
          "user": {
            "displayName": "",
            "userId": ""
          }
        },
        "outputId": "efe94219-f34d-41ac-f958-712814e4e67f"
      },
      "execution_count": 7,
      "outputs": [
        {
          "output_type": "display_data",
          "data": {
            "text/plain": [
              "<IPython.core.display.HTML object>"
            ],
            "text/html": [
              "Query job e222ba1c-1f56-401b-9a59-7e922ef69eeb is DONE. 10.6 MB processed. <a target=\"_blank\" href=\"https://console.cloud.google.com/bigquery?project=airy-ranger-437306-b3&j=bq:US:e222ba1c-1f56-401b-9a59-7e922ef69eeb&page=queryresults\">Open Job</a>"
            ]
          },
          "metadata": {}
        },
        {
          "output_type": "display_data",
          "data": {
            "text/plain": [
              "<IPython.core.display.HTML object>"
            ],
            "text/html": [
              "Query job 83d1acd3-37db-49d7-979f-392f0b553395 is DONE. 10.6 MB processed. <a target=\"_blank\" href=\"https://console.cloud.google.com/bigquery?project=airy-ranger-437306-b3&j=bq:US:83d1acd3-37db-49d7-979f-392f0b553395&page=queryresults\">Open Job</a>"
            ]
          },
          "metadata": {}
        },
        {
          "output_type": "execute_result",
          "data": {
            "text/plain": [
              "        user_id  order_id  sale_price         order_created_date      status\n",
              "0         38423     48089       15.99  2023-12-02 16:43:19+00:00   Cancelled\n",
              "1           805      1042       110.0  2024-01-28 06:38:26+00:00  Processing\n",
              "2         42880     53608        68.0  2024-07-16 00:19:33+00:00    Complete\n",
              "3         61364     76707       108.5  2024-03-22 06:36:40+00:00  Processing\n",
              "4         32492     40672   44.779999  2023-05-08 06:09:48+00:00     Shipped\n",
              "...         ...       ...         ...                        ...         ...\n",
              "181237    44326     55397       180.0  2024-03-05 10:48:42+00:00    Returned\n",
              "181238    87039    109048       56.25  2023-05-08 04:44:58+00:00    Complete\n",
              "181239    57582     71951        5.99  2023-04-18 16:29:56+00:00    Returned\n",
              "181240    72871     91200       16.98  2024-08-19 17:07:21+00:00   Cancelled\n",
              "181241     5731      7318       178.0  2023-01-24 06:54:03+00:00     Shipped\n",
              "...\n",
              "\n",
              "[181242 rows x 5 columns]"
            ],
            "text/html": [
              "<div>\n",
              "<style scoped>\n",
              "    .dataframe tbody tr th:only-of-type {\n",
              "        vertical-align: middle;\n",
              "    }\n",
              "\n",
              "    .dataframe tbody tr th {\n",
              "        vertical-align: top;\n",
              "    }\n",
              "\n",
              "    .dataframe thead th {\n",
              "        text-align: right;\n",
              "    }\n",
              "</style>\n",
              "<table border=\"1\" class=\"dataframe\">\n",
              "  <thead>\n",
              "    <tr style=\"text-align: right;\">\n",
              "      <th></th>\n",
              "      <th>user_id</th>\n",
              "      <th>order_id</th>\n",
              "      <th>sale_price</th>\n",
              "      <th>order_created_date</th>\n",
              "      <th>status</th>\n",
              "    </tr>\n",
              "  </thead>\n",
              "  <tbody>\n",
              "    <tr>\n",
              "      <th>0</th>\n",
              "      <td>38423</td>\n",
              "      <td>48089</td>\n",
              "      <td>15.99</td>\n",
              "      <td>2023-12-02 16:43:19+00:00</td>\n",
              "      <td>Cancelled</td>\n",
              "    </tr>\n",
              "    <tr>\n",
              "      <th>1</th>\n",
              "      <td>805</td>\n",
              "      <td>1042</td>\n",
              "      <td>110.0</td>\n",
              "      <td>2024-01-28 06:38:26+00:00</td>\n",
              "      <td>Processing</td>\n",
              "    </tr>\n",
              "    <tr>\n",
              "      <th>2</th>\n",
              "      <td>42880</td>\n",
              "      <td>53608</td>\n",
              "      <td>68.0</td>\n",
              "      <td>2024-07-16 00:19:33+00:00</td>\n",
              "      <td>Complete</td>\n",
              "    </tr>\n",
              "    <tr>\n",
              "      <th>3</th>\n",
              "      <td>61364</td>\n",
              "      <td>76707</td>\n",
              "      <td>108.5</td>\n",
              "      <td>2024-03-22 06:36:40+00:00</td>\n",
              "      <td>Processing</td>\n",
              "    </tr>\n",
              "    <tr>\n",
              "      <th>4</th>\n",
              "      <td>32492</td>\n",
              "      <td>40672</td>\n",
              "      <td>44.779999</td>\n",
              "      <td>2023-05-08 06:09:48+00:00</td>\n",
              "      <td>Shipped</td>\n",
              "    </tr>\n",
              "    <tr>\n",
              "      <th>...</th>\n",
              "      <td>...</td>\n",
              "      <td>...</td>\n",
              "      <td>...</td>\n",
              "      <td>...</td>\n",
              "      <td>...</td>\n",
              "    </tr>\n",
              "    <tr>\n",
              "      <th>181237</th>\n",
              "      <td>44326</td>\n",
              "      <td>55397</td>\n",
              "      <td>180.0</td>\n",
              "      <td>2024-03-05 10:48:42+00:00</td>\n",
              "      <td>Returned</td>\n",
              "    </tr>\n",
              "    <tr>\n",
              "      <th>181238</th>\n",
              "      <td>87039</td>\n",
              "      <td>109048</td>\n",
              "      <td>56.25</td>\n",
              "      <td>2023-05-08 04:44:58+00:00</td>\n",
              "      <td>Complete</td>\n",
              "    </tr>\n",
              "    <tr>\n",
              "      <th>181239</th>\n",
              "      <td>57582</td>\n",
              "      <td>71951</td>\n",
              "      <td>5.99</td>\n",
              "      <td>2023-04-18 16:29:56+00:00</td>\n",
              "      <td>Returned</td>\n",
              "    </tr>\n",
              "    <tr>\n",
              "      <th>181240</th>\n",
              "      <td>72871</td>\n",
              "      <td>91200</td>\n",
              "      <td>16.98</td>\n",
              "      <td>2024-08-19 17:07:21+00:00</td>\n",
              "      <td>Cancelled</td>\n",
              "    </tr>\n",
              "    <tr>\n",
              "      <th>181241</th>\n",
              "      <td>5731</td>\n",
              "      <td>7318</td>\n",
              "      <td>178.0</td>\n",
              "      <td>2023-01-24 06:54:03+00:00</td>\n",
              "      <td>Shipped</td>\n",
              "    </tr>\n",
              "  </tbody>\n",
              "</table>\n",
              "<p>181242 rows × 5 columns</p>\n",
              "</div>[181242 rows x 5 columns in total]"
            ]
          },
          "metadata": {},
          "execution_count": 7
        }
      ]
    },
    {
      "cell_type": "markdown",
      "source": [],
      "metadata": {
        "id": "fM6FjNXUp-_U"
      }
    },
    {
      "cell_type": "markdown",
      "source": [
        "#### **Restricting the dataset to data spanning one year**"
      ],
      "metadata": {
        "id": "HtznpFFnJZqO"
      }
    },
    {
      "cell_type": "code",
      "source": [
        "df = df[df[\"order_created_date\"] > \"2022-01-01\"]\n",
        "df = df[df[\"order_created_date\"] < \"2023-01-01\"]\n",
        "df"
      ],
      "metadata": {
        "id": "9QVWdVT5PXmI",
        "colab": {
          "base_uri": "https://localhost:8080/",
          "height": 493
        },
        "executionInfo": {
          "status": "ok",
          "timestamp": 1728366372884,
          "user_tz": -240,
          "elapsed": 9225,
          "user": {
            "displayName": "",
            "userId": ""
          }
        },
        "outputId": "079f50f8-917a-4d81-80d9-da7593600f40"
      },
      "execution_count": 8,
      "outputs": [
        {
          "output_type": "display_data",
          "data": {
            "text/plain": [
              "<IPython.core.display.HTML object>"
            ],
            "text/html": [
              "Query job 1ab06f51-418e-47bf-b642-d15409ab37f1 is DONE. 10.6 MB processed. <a target=\"_blank\" href=\"https://console.cloud.google.com/bigquery?project=airy-ranger-437306-b3&j=bq:US:1ab06f51-418e-47bf-b642-d15409ab37f1&page=queryresults\">Open Job</a>"
            ]
          },
          "metadata": {}
        },
        {
          "output_type": "display_data",
          "data": {
            "text/plain": [
              "<IPython.core.display.HTML object>"
            ],
            "text/html": [
              "Query job ad4c2803-0ef1-4487-912b-968846af2709 is DONE. 1.7 MB processed. <a target=\"_blank\" href=\"https://console.cloud.google.com/bigquery?project=airy-ranger-437306-b3&j=bq:US:ad4c2803-0ef1-4487-912b-968846af2709&page=queryresults\">Open Job</a>"
            ]
          },
          "metadata": {}
        },
        {
          "output_type": "display_data",
          "data": {
            "text/plain": [
              "<IPython.core.display.HTML object>"
            ],
            "text/html": [
              "Query job 1a3f52e1-d8a7-4112-8b4b-79e7ba2a82ce is DONE. 1.7 MB processed. <a target=\"_blank\" href=\"https://console.cloud.google.com/bigquery?project=airy-ranger-437306-b3&j=bq:US:1a3f52e1-d8a7-4112-8b4b-79e7ba2a82ce&page=queryresults\">Open Job</a>"
            ]
          },
          "metadata": {}
        },
        {
          "output_type": "execute_result",
          "data": {
            "text/plain": [
              "        user_id  order_id  sale_price         order_created_date      status\n",
              "10        97542    122128   32.950001  2022-05-06 15:27:36+00:00    Complete\n",
              "16        99015    123996       75.32  2022-01-19 03:34:55+00:00     Shipped\n",
              "24        64554     80726   40.130001  2022-11-13 05:50:32+00:00    Complete\n",
              "31        54935     68594   32.990002  2022-01-29 14:35:04+00:00  Processing\n",
              "50        70428     88114   54.990002  2022-04-27 10:48:12+00:00  Processing\n",
              "...         ...       ...         ...                        ...         ...\n",
              "181205    87689    109842   99.989998  2022-09-25 11:09:18+00:00   Cancelled\n",
              "181206    20459     25578   46.959999  2022-01-31 02:50:53+00:00     Shipped\n",
              "181213    19065     23883   39.950001  2022-12-05 23:19:58+00:00    Returned\n",
              "181218    58791     73434   17.950001  2022-05-09 16:46:08+00:00     Shipped\n",
              "181236    35722     44690   39.990002  2022-08-26 04:14:56+00:00     Shipped\n",
              "...\n",
              "\n",
              "[28676 rows x 5 columns]"
            ],
            "text/html": [
              "<div>\n",
              "<style scoped>\n",
              "    .dataframe tbody tr th:only-of-type {\n",
              "        vertical-align: middle;\n",
              "    }\n",
              "\n",
              "    .dataframe tbody tr th {\n",
              "        vertical-align: top;\n",
              "    }\n",
              "\n",
              "    .dataframe thead th {\n",
              "        text-align: right;\n",
              "    }\n",
              "</style>\n",
              "<table border=\"1\" class=\"dataframe\">\n",
              "  <thead>\n",
              "    <tr style=\"text-align: right;\">\n",
              "      <th></th>\n",
              "      <th>user_id</th>\n",
              "      <th>order_id</th>\n",
              "      <th>sale_price</th>\n",
              "      <th>order_created_date</th>\n",
              "      <th>status</th>\n",
              "    </tr>\n",
              "  </thead>\n",
              "  <tbody>\n",
              "    <tr>\n",
              "      <th>10</th>\n",
              "      <td>97542</td>\n",
              "      <td>122128</td>\n",
              "      <td>32.950001</td>\n",
              "      <td>2022-05-06 15:27:36+00:00</td>\n",
              "      <td>Complete</td>\n",
              "    </tr>\n",
              "    <tr>\n",
              "      <th>16</th>\n",
              "      <td>99015</td>\n",
              "      <td>123996</td>\n",
              "      <td>75.32</td>\n",
              "      <td>2022-01-19 03:34:55+00:00</td>\n",
              "      <td>Shipped</td>\n",
              "    </tr>\n",
              "    <tr>\n",
              "      <th>24</th>\n",
              "      <td>64554</td>\n",
              "      <td>80726</td>\n",
              "      <td>40.130001</td>\n",
              "      <td>2022-11-13 05:50:32+00:00</td>\n",
              "      <td>Complete</td>\n",
              "    </tr>\n",
              "    <tr>\n",
              "      <th>31</th>\n",
              "      <td>54935</td>\n",
              "      <td>68594</td>\n",
              "      <td>32.990002</td>\n",
              "      <td>2022-01-29 14:35:04+00:00</td>\n",
              "      <td>Processing</td>\n",
              "    </tr>\n",
              "    <tr>\n",
              "      <th>50</th>\n",
              "      <td>70428</td>\n",
              "      <td>88114</td>\n",
              "      <td>54.990002</td>\n",
              "      <td>2022-04-27 10:48:12+00:00</td>\n",
              "      <td>Processing</td>\n",
              "    </tr>\n",
              "    <tr>\n",
              "      <th>...</th>\n",
              "      <td>...</td>\n",
              "      <td>...</td>\n",
              "      <td>...</td>\n",
              "      <td>...</td>\n",
              "      <td>...</td>\n",
              "    </tr>\n",
              "    <tr>\n",
              "      <th>181205</th>\n",
              "      <td>87689</td>\n",
              "      <td>109842</td>\n",
              "      <td>99.989998</td>\n",
              "      <td>2022-09-25 11:09:18+00:00</td>\n",
              "      <td>Cancelled</td>\n",
              "    </tr>\n",
              "    <tr>\n",
              "      <th>181206</th>\n",
              "      <td>20459</td>\n",
              "      <td>25578</td>\n",
              "      <td>46.959999</td>\n",
              "      <td>2022-01-31 02:50:53+00:00</td>\n",
              "      <td>Shipped</td>\n",
              "    </tr>\n",
              "    <tr>\n",
              "      <th>181213</th>\n",
              "      <td>19065</td>\n",
              "      <td>23883</td>\n",
              "      <td>39.950001</td>\n",
              "      <td>2022-12-05 23:19:58+00:00</td>\n",
              "      <td>Returned</td>\n",
              "    </tr>\n",
              "    <tr>\n",
              "      <th>181218</th>\n",
              "      <td>58791</td>\n",
              "      <td>73434</td>\n",
              "      <td>17.950001</td>\n",
              "      <td>2022-05-09 16:46:08+00:00</td>\n",
              "      <td>Shipped</td>\n",
              "    </tr>\n",
              "    <tr>\n",
              "      <th>181236</th>\n",
              "      <td>35722</td>\n",
              "      <td>44690</td>\n",
              "      <td>39.990002</td>\n",
              "      <td>2022-08-26 04:14:56+00:00</td>\n",
              "      <td>Shipped</td>\n",
              "    </tr>\n",
              "  </tbody>\n",
              "</table>\n",
              "<p>28676 rows × 5 columns</p>\n",
              "</div>[28676 rows x 5 columns in total]"
            ]
          },
          "metadata": {},
          "execution_count": 8
        }
      ]
    },
    {
      "cell_type": "markdown",
      "source": [
        "## Step 2 : Feature Engineering using BigQuery Dataframes"
      ],
      "metadata": {
        "id": "uIt9rmX4JTYW"
      }
    },
    {
      "cell_type": "markdown",
      "source": [
        "## Create features for k-means model.\n",
        "\n",
        "*   List item\n",
        "*   List item\n",
        "\n",
        "\n",
        "\n",
        "We intend to compute features such as the total number of orders per customer, average spending per customer, and the return ratio, calculated as the total number of returns divided by the number of orders."
      ],
      "metadata": {
        "id": "8RDvQSsqrryy"
      }
    },
    {
      "cell_type": "markdown",
      "source": [
        "#### **Calculating total number of orders per customer**"
      ],
      "metadata": {
        "id": "w1rh8N_rKFsU"
      }
    },
    {
      "cell_type": "code",
      "source": [
        "count_orders = df.groupby([\"user_id\"])[\"order_id\"].count()\n",
        "count_orders"
      ],
      "metadata": {
        "id": "GR47wGItaiXl",
        "colab": {
          "base_uri": "https://localhost:8080/",
          "height": 295
        },
        "executionInfo": {
          "status": "ok",
          "timestamp": 1728366404537,
          "user_tz": -240,
          "elapsed": 8822,
          "user": {
            "displayName": "",
            "userId": ""
          }
        },
        "outputId": "ac86b396-d6df-456a-e0fa-a64833be2d7a"
      },
      "execution_count": 9,
      "outputs": [
        {
          "output_type": "display_data",
          "data": {
            "text/plain": [
              "<IPython.core.display.HTML object>"
            ],
            "text/html": [
              "Query job 91da10c2-27cb-42f9-8961-532fd3efd201 is DONE. 458.8 kB processed. <a target=\"_blank\" href=\"https://console.cloud.google.com/bigquery?project=airy-ranger-437306-b3&j=bq:US:91da10c2-27cb-42f9-8961-532fd3efd201&page=queryresults\">Open Job</a>"
            ]
          },
          "metadata": {}
        },
        {
          "output_type": "display_data",
          "data": {
            "text/plain": [
              "<IPython.core.display.HTML object>"
            ],
            "text/html": [
              "Query job a7c88042-e485-4fbe-b6fb-48429cb176c0 is DONE. 420.7 kB processed. <a target=\"_blank\" href=\"https://console.cloud.google.com/bigquery?project=airy-ranger-437306-b3&j=bq:US:a7c88042-e485-4fbe-b6fb-48429cb176c0&page=queryresults\">Open Job</a>"
            ]
          },
          "metadata": {}
        },
        {
          "output_type": "display_data",
          "data": {
            "text/plain": [
              "<IPython.core.display.HTML object>"
            ],
            "text/html": [
              "Query job efcd1ae7-84e1-4598-af26-aa7285f68b15 is DONE. 420.7 kB processed. <a target=\"_blank\" href=\"https://console.cloud.google.com/bigquery?project=airy-ranger-437306-b3&j=bq:US:efcd1ae7-84e1-4598-af26-aa7285f68b15&page=queryresults\">Open Job</a>"
            ]
          },
          "metadata": {}
        },
        {
          "output_type": "execute_result",
          "data": {
            "text/plain": [
              "user_id\n",
              "2        2\n",
              "4        2\n",
              "9        1\n",
              "17       1\n",
              "24       1\n",
              "        ..\n",
              "99982    2\n",
              "99983    1\n",
              "99996    4\n",
              "99997    3\n",
              "99999    1\n",
              "Name: order_id, Length: 17529, dtype: Int64"
            ]
          },
          "metadata": {},
          "execution_count": 9
        }
      ]
    },
    {
      "cell_type": "markdown",
      "source": [
        "#### **Calculating average spend per customer**"
      ],
      "metadata": {
        "id": "yFnCXVd9KNK5"
      }
    },
    {
      "cell_type": "code",
      "source": [
        "average_spend = df.groupby([\"user_id\"])[\"sale_price\"].mean()\n",
        "average_spend"
      ],
      "metadata": {
        "id": "tRPfIxrqa6O9",
        "colab": {
          "base_uri": "https://localhost:8080/",
          "height": 295
        },
        "executionInfo": {
          "status": "ok",
          "timestamp": 1728366494599,
          "user_tz": -240,
          "elapsed": 7943,
          "user": {
            "displayName": "",
            "userId": ""
          }
        },
        "outputId": "2381b9d5-42c8-4862-db82-3e0bf71f38b8"
      },
      "execution_count": 10,
      "outputs": [
        {
          "output_type": "display_data",
          "data": {
            "text/plain": [
              "<IPython.core.display.HTML object>"
            ],
            "text/html": [
              "Query job e3d6066a-806f-4681-892f-249f5f15cc73 is DONE. 458.8 kB processed. <a target=\"_blank\" href=\"https://console.cloud.google.com/bigquery?project=airy-ranger-437306-b3&j=bq:US:e3d6066a-806f-4681-892f-249f5f15cc73&page=queryresults\">Open Job</a>"
            ]
          },
          "metadata": {}
        },
        {
          "output_type": "display_data",
          "data": {
            "text/plain": [
              "<IPython.core.display.HTML object>"
            ],
            "text/html": [
              "Query job 2c0d486a-3393-41ab-84e0-bb594c0747d4 is DONE. 420.7 kB processed. <a target=\"_blank\" href=\"https://console.cloud.google.com/bigquery?project=airy-ranger-437306-b3&j=bq:US:2c0d486a-3393-41ab-84e0-bb594c0747d4&page=queryresults\">Open Job</a>"
            ]
          },
          "metadata": {}
        },
        {
          "output_type": "display_data",
          "data": {
            "text/plain": [
              "<IPython.core.display.HTML object>"
            ],
            "text/html": [
              "Query job e773cf35-343c-4ff0-b4f4-7d9deb4738e0 is DONE. 420.7 kB processed. <a target=\"_blank\" href=\"https://console.cloud.google.com/bigquery?project=airy-ranger-437306-b3&j=bq:US:e773cf35-343c-4ff0-b4f4-7d9deb4738e0&page=queryresults\">Open Job</a>"
            ]
          },
          "metadata": {}
        },
        {
          "output_type": "execute_result",
          "data": {
            "text/plain": [
              "user_id\n",
              "2             75.55\n",
              "4             47.99\n",
              "9              42.0\n",
              "17        24.950001\n",
              "24            19.99\n",
              "            ...    \n",
              "99982        18.145\n",
              "99983          25.0\n",
              "99996    161.492501\n",
              "99997     38.993333\n",
              "99999     39.950001\n",
              "Name: sale_price, Length: 17529, dtype: Float64"
            ]
          },
          "metadata": {},
          "execution_count": 10
        }
      ]
    },
    {
      "cell_type": "markdown",
      "source": [
        "#### **Calculating total number of returned orders per customer**"
      ],
      "metadata": {
        "id": "qcRAFUPnOZvD"
      }
    },
    {
      "cell_type": "code",
      "source": [
        "df[\"returned\"] = df[\"status\"] == \"Returned\"\n",
        "returned = df.groupby([\"user_id\"])[\"returned\"].sum()\n",
        "returned"
      ],
      "metadata": {
        "id": "DYERzNIA9IJh",
        "colab": {
          "base_uri": "https://localhost:8080/",
          "height": 295
        },
        "executionInfo": {
          "status": "ok",
          "timestamp": 1728366556904,
          "user_tz": -240,
          "elapsed": 8734,
          "user": {
            "displayName": "",
            "userId": ""
          }
        },
        "outputId": "222307a6-18bf-4ed2-86f3-6e9e1086a426"
      },
      "execution_count": 11,
      "outputs": [
        {
          "output_type": "display_data",
          "data": {
            "text/plain": [
              "<IPython.core.display.HTML object>"
            ],
            "text/html": [
              "Query job cc0137cc-7eca-49e0-af8f-b21dd0f999ed is DONE. 524.0 kB processed. <a target=\"_blank\" href=\"https://console.cloud.google.com/bigquery?project=airy-ranger-437306-b3&j=bq:US:cc0137cc-7eca-49e0-af8f-b21dd0f999ed&page=queryresults\">Open Job</a>"
            ]
          },
          "metadata": {}
        },
        {
          "output_type": "display_data",
          "data": {
            "text/plain": [
              "<IPython.core.display.HTML object>"
            ],
            "text/html": [
              "Query job 06d70dd1-17b0-4af2-ace5-92aa72e3049c is DONE. 420.7 kB processed. <a target=\"_blank\" href=\"https://console.cloud.google.com/bigquery?project=airy-ranger-437306-b3&j=bq:US:06d70dd1-17b0-4af2-ace5-92aa72e3049c&page=queryresults\">Open Job</a>"
            ]
          },
          "metadata": {}
        },
        {
          "output_type": "display_data",
          "data": {
            "text/plain": [
              "<IPython.core.display.HTML object>"
            ],
            "text/html": [
              "Query job 7145c5e4-6e4f-4fae-9b4a-d2336bba5f52 is DONE. 420.7 kB processed. <a target=\"_blank\" href=\"https://console.cloud.google.com/bigquery?project=airy-ranger-437306-b3&j=bq:US:7145c5e4-6e4f-4fae-9b4a-d2336bba5f52&page=queryresults\">Open Job</a>"
            ]
          },
          "metadata": {}
        },
        {
          "output_type": "execute_result",
          "data": {
            "text/plain": [
              "user_id\n",
              "2        0\n",
              "4        0\n",
              "9        0\n",
              "17       0\n",
              "24       0\n",
              "        ..\n",
              "99982    2\n",
              "99983    0\n",
              "99996    0\n",
              "99997    0\n",
              "99999    0\n",
              "Name: returned, Length: 17529, dtype: Int64"
            ]
          },
          "metadata": {},
          "execution_count": 11
        }
      ]
    },
    {
      "cell_type": "markdown",
      "source": [
        "#### **Calculating return ratio per customer**"
      ],
      "metadata": {
        "id": "VvfvSw0QOe9N"
      }
    },
    {
      "cell_type": "code",
      "source": [
        "return_ratio = returned / count_orders\n",
        "return_ratio"
      ],
      "metadata": {
        "id": "SUvwp6LIAuhc",
        "colab": {
          "base_uri": "https://localhost:8080/",
          "height": 295
        },
        "executionInfo": {
          "status": "ok",
          "timestamp": 1728366697750,
          "user_tz": -240,
          "elapsed": 8970,
          "user": {
            "displayName": "",
            "userId": ""
          }
        },
        "outputId": "48c1964a-5591-40b0-91c4-2d774277cc37"
      },
      "execution_count": 12,
      "outputs": [
        {
          "output_type": "display_data",
          "data": {
            "text/plain": [
              "<IPython.core.display.HTML object>"
            ],
            "text/html": [
              "Query job 3c0019f3-6d5d-46fb-8cc7-80ca4786da15 is DONE. 841.4 kB processed. <a target=\"_blank\" href=\"https://console.cloud.google.com/bigquery?project=airy-ranger-437306-b3&j=bq:US:3c0019f3-6d5d-46fb-8cc7-80ca4786da15&page=queryresults\">Open Job</a>"
            ]
          },
          "metadata": {}
        },
        {
          "output_type": "display_data",
          "data": {
            "text/plain": [
              "<IPython.core.display.HTML object>"
            ],
            "text/html": [
              "Query job 949e70a2-b539-43c7-968f-895f89f113a3 is DONE. 420.7 kB processed. <a target=\"_blank\" href=\"https://console.cloud.google.com/bigquery?project=airy-ranger-437306-b3&j=bq:US:949e70a2-b539-43c7-968f-895f89f113a3&page=queryresults\">Open Job</a>"
            ]
          },
          "metadata": {}
        },
        {
          "output_type": "display_data",
          "data": {
            "text/plain": [
              "<IPython.core.display.HTML object>"
            ],
            "text/html": [
              "Query job 10aa5c39-6b32-4a09-962e-7efc9f7a9288 is DONE. 420.7 kB processed. <a target=\"_blank\" href=\"https://console.cloud.google.com/bigquery?project=airy-ranger-437306-b3&j=bq:US:10aa5c39-6b32-4a09-962e-7efc9f7a9288&page=queryresults\">Open Job</a>"
            ]
          },
          "metadata": {}
        },
        {
          "output_type": "execute_result",
          "data": {
            "text/plain": [
              "user_id\n",
              "2        0.0\n",
              "4        0.0\n",
              "9        0.0\n",
              "17       0.0\n",
              "24       0.0\n",
              "        ... \n",
              "99982    1.0\n",
              "99983    0.0\n",
              "99996    0.0\n",
              "99997    0.0\n",
              "99999    0.0\n",
              "Length: 17529, dtype: Float64"
            ]
          },
          "metadata": {},
          "execution_count": 12
        }
      ]
    },
    {
      "cell_type": "markdown",
      "source": [
        "#### **Compiling a conclusive dataframe for the development of a machine learning model for customer segmentation.**"
      ],
      "metadata": {
        "id": "NBNq6Ub3Oik8"
      }
    },
    {
      "cell_type": "code",
      "source": [
        "df_customer = count_orders.rename(\"count_orders\").to_frame()\n",
        "df_customer[\"average_spend\"] = average_spend\n",
        "df_customer[\"return_ratio\"] = return_ratio\n",
        "df_customer"
      ],
      "metadata": {
        "id": "GMjuuLQg_eKh",
        "colab": {
          "base_uri": "https://localhost:8080/",
          "height": 524
        },
        "executionInfo": {
          "status": "ok",
          "timestamp": 1728366706319,
          "user_tz": -240,
          "elapsed": 8572,
          "user": {
            "displayName": "",
            "userId": ""
          }
        },
        "outputId": "77d6728a-dfe6-493c-e8e2-43cc629b4d4c"
      },
      "execution_count": 13,
      "outputs": [
        {
          "output_type": "display_data",
          "data": {
            "text/plain": [
              "<IPython.core.display.HTML object>"
            ],
            "text/html": [
              "Query job df261af1-8f6d-4d4d-b191-1fe8e64eb857 is DONE. 1.3 MB processed. <a target=\"_blank\" href=\"https://console.cloud.google.com/bigquery?project=airy-ranger-437306-b3&j=bq:US:df261af1-8f6d-4d4d-b191-1fe8e64eb857&page=queryresults\">Open Job</a>"
            ]
          },
          "metadata": {}
        },
        {
          "output_type": "display_data",
          "data": {
            "text/plain": [
              "<IPython.core.display.HTML object>"
            ],
            "text/html": [
              "Query job 26e9e4a2-304c-47c3-8f8b-98eae636add0 is DONE. 701.2 kB processed. <a target=\"_blank\" href=\"https://console.cloud.google.com/bigquery?project=airy-ranger-437306-b3&j=bq:US:26e9e4a2-304c-47c3-8f8b-98eae636add0&page=queryresults\">Open Job</a>"
            ]
          },
          "metadata": {}
        },
        {
          "output_type": "display_data",
          "data": {
            "text/plain": [
              "<IPython.core.display.HTML object>"
            ],
            "text/html": [
              "Query job 21f4a92c-e102-4161-948d-b32fd7b354af is DONE. 701.2 kB processed. <a target=\"_blank\" href=\"https://console.cloud.google.com/bigquery?project=airy-ranger-437306-b3&j=bq:US:21f4a92c-e102-4161-948d-b32fd7b354af&page=queryresults\">Open Job</a>"
            ]
          },
          "metadata": {}
        },
        {
          "output_type": "execute_result",
          "data": {
            "text/plain": [
              "         count_orders  average_spend  return_ratio\n",
              "user_id                                           \n",
              "2                   2          75.55           0.0\n",
              "4                   2          47.99           0.0\n",
              "9                   1           42.0           0.0\n",
              "17                  1      24.950001           0.0\n",
              "24                  1          19.99           0.0\n",
              "...               ...            ...           ...\n",
              "99982               2         18.145           1.0\n",
              "99983               1           25.0           0.0\n",
              "99996               4     161.492501           0.0\n",
              "99997               3      38.993333           0.0\n",
              "99999               1      39.950001           0.0\n",
              "...\n",
              "\n",
              "[17529 rows x 3 columns]"
            ],
            "text/html": [
              "<div>\n",
              "<style scoped>\n",
              "    .dataframe tbody tr th:only-of-type {\n",
              "        vertical-align: middle;\n",
              "    }\n",
              "\n",
              "    .dataframe tbody tr th {\n",
              "        vertical-align: top;\n",
              "    }\n",
              "\n",
              "    .dataframe thead th {\n",
              "        text-align: right;\n",
              "    }\n",
              "</style>\n",
              "<table border=\"1\" class=\"dataframe\">\n",
              "  <thead>\n",
              "    <tr style=\"text-align: right;\">\n",
              "      <th></th>\n",
              "      <th>count_orders</th>\n",
              "      <th>average_spend</th>\n",
              "      <th>return_ratio</th>\n",
              "    </tr>\n",
              "    <tr>\n",
              "      <th>user_id</th>\n",
              "      <th></th>\n",
              "      <th></th>\n",
              "      <th></th>\n",
              "    </tr>\n",
              "  </thead>\n",
              "  <tbody>\n",
              "    <tr>\n",
              "      <th>2</th>\n",
              "      <td>2</td>\n",
              "      <td>75.55</td>\n",
              "      <td>0.0</td>\n",
              "    </tr>\n",
              "    <tr>\n",
              "      <th>4</th>\n",
              "      <td>2</td>\n",
              "      <td>47.99</td>\n",
              "      <td>0.0</td>\n",
              "    </tr>\n",
              "    <tr>\n",
              "      <th>9</th>\n",
              "      <td>1</td>\n",
              "      <td>42.0</td>\n",
              "      <td>0.0</td>\n",
              "    </tr>\n",
              "    <tr>\n",
              "      <th>17</th>\n",
              "      <td>1</td>\n",
              "      <td>24.950001</td>\n",
              "      <td>0.0</td>\n",
              "    </tr>\n",
              "    <tr>\n",
              "      <th>24</th>\n",
              "      <td>1</td>\n",
              "      <td>19.99</td>\n",
              "      <td>0.0</td>\n",
              "    </tr>\n",
              "    <tr>\n",
              "      <th>...</th>\n",
              "      <td>...</td>\n",
              "      <td>...</td>\n",
              "      <td>...</td>\n",
              "    </tr>\n",
              "    <tr>\n",
              "      <th>99982</th>\n",
              "      <td>2</td>\n",
              "      <td>18.145</td>\n",
              "      <td>1.0</td>\n",
              "    </tr>\n",
              "    <tr>\n",
              "      <th>99983</th>\n",
              "      <td>1</td>\n",
              "      <td>25.0</td>\n",
              "      <td>0.0</td>\n",
              "    </tr>\n",
              "    <tr>\n",
              "      <th>99996</th>\n",
              "      <td>4</td>\n",
              "      <td>161.492501</td>\n",
              "      <td>0.0</td>\n",
              "    </tr>\n",
              "    <tr>\n",
              "      <th>99997</th>\n",
              "      <td>3</td>\n",
              "      <td>38.993333</td>\n",
              "      <td>0.0</td>\n",
              "    </tr>\n",
              "    <tr>\n",
              "      <th>99999</th>\n",
              "      <td>1</td>\n",
              "      <td>39.950001</td>\n",
              "      <td>0.0</td>\n",
              "    </tr>\n",
              "  </tbody>\n",
              "</table>\n",
              "<p>17529 rows × 3 columns</p>\n",
              "</div>[17529 rows x 3 columns in total]"
            ]
          },
          "metadata": {},
          "execution_count": 13
        }
      ]
    },
    {
      "cell_type": "markdown",
      "source": [
        "## Step 3 : Create a k-means model to cluster ecommerce data\n",
        "\n",
        "**K-means** is a widely used clustering algorithm that can dentify distinct groups or clusters within a dataset. With eCommerce data, k-means can segment customers, products, or transactions into meaningful groups for various analytical and business purposes.\n",
        "\n",
        "\n",
        "#### **Cluster the customer data using BigFrames!**"
      ],
      "metadata": {
        "id": "WnXQQOAc4t22"
      }
    },
    {
      "cell_type": "code",
      "source": [
        "from bigframes.ml.cluster import KMeans\n",
        "from bigframes.ml.model_selection import train_test_split\n",
        "\n",
        "# Split test and training data\n",
        "df_customer = df_customer.dropna()\n",
        "train_X, test_X = train_test_split(df_customer, test_size = 0.2)\n",
        "# train_X = train_X.drop(columns = [\"user_id\"])\n",
        "# Create a K-Means cluster model\n",
        "kmeans = KMeans(n_clusters = 5)\n",
        "kmeans.fit(train_X)\n"
      ],
      "metadata": {
        "id": "cWQ9botFf2Te",
        "colab": {
          "base_uri": "https://localhost:8080/",
          "height": 86
        },
        "executionInfo": {
          "status": "ok",
          "timestamp": 1728366942808,
          "user_tz": -240,
          "elapsed": 80242,
          "user": {
            "displayName": "",
            "userId": ""
          }
        },
        "outputId": "295eb373-2d96-4d8d-ed79-489bf79facb5"
      },
      "execution_count": 14,
      "outputs": [
        {
          "output_type": "display_data",
          "data": {
            "text/plain": [
              "<IPython.core.display.HTML object>"
            ],
            "text/html": [
              "Query job 7f6def8a-2523-4920-aad8-409bc217c78b is DONE. 420.7 kB processed. <a target=\"_blank\" href=\"https://console.cloud.google.com/bigquery?project=airy-ranger-437306-b3&j=bq:US:7f6def8a-2523-4920-aad8-409bc217c78b&page=queryresults\">Open Job</a>"
            ]
          },
          "metadata": {}
        },
        {
          "output_type": "display_data",
          "data": {
            "text/plain": [
              "<IPython.core.display.HTML object>"
            ],
            "text/html": [
              "Query job d006c171-be84-499f-b27f-c313c2e663a5 is DONE. 701.2 kB processed. <a target=\"_blank\" href=\"https://console.cloud.google.com/bigquery?project=airy-ranger-437306-b3&j=bq:US:d006c171-be84-499f-b27f-c313c2e663a5&page=queryresults\">Open Job</a>"
            ]
          },
          "metadata": {}
        },
        {
          "output_type": "display_data",
          "data": {
            "text/plain": [
              "<IPython.core.display.HTML object>"
            ],
            "text/html": [
              "Query job 6809e22d-f878-498c-9e32-56cdacd7b683 is DONE. 448.7 kB processed. <a target=\"_blank\" href=\"https://console.cloud.google.com/bigquery?project=airy-ranger-437306-b3&j=bq:US:6809e22d-f878-498c-9e32-56cdacd7b683&page=queryresults\">Open Job</a>"
            ]
          },
          "metadata": {}
        },
        {
          "output_type": "execute_result",
          "data": {
            "text/plain": [
              "KMeans(n_clusters=5)"
            ]
          },
          "metadata": {},
          "execution_count": 14
        }
      ]
    },
    {
      "cell_type": "markdown",
      "source": [
        "#### **Save the model to BigQuery**"
      ],
      "metadata": {
        "id": "iABA1HcDO4Wd"
      }
    },
    {
      "cell_type": "code",
      "source": [
        "kmeans.to_gbq(f\"{PROJECT_ID}.{DATASET_NAME}.{MODEL_NAME}\", True)"
      ],
      "metadata": {
        "id": "8cMH1oeBB5jh",
        "colab": {
          "base_uri": "https://localhost:8080/",
          "height": 338
        },
        "executionInfo": {
          "status": "error",
          "timestamp": 1728367000986,
          "user_tz": -240,
          "elapsed": 683,
          "user": {
            "displayName": "",
            "userId": ""
          }
        },
        "outputId": "9e136400-0fcb-497d-9fd5-a8c8cb5dc5cb"
      },
      "execution_count": 17,
      "outputs": [
        {
          "output_type": "error",
          "ename": "NotFound",
          "evalue": "404 POST https://bigquery.googleapis.com/bigquery/v2/projects/airy-ranger-437306-b3/jobs?prettyPrint=false: Not found: Dataset airy-ranger-437306-b3:theLook_retail",
          "traceback": [
            "\u001b[0;31m---------------------------------------------------------------------------\u001b[0m",
            "\u001b[0;31mNotFound\u001b[0m                                  Traceback (most recent call last)",
            "\u001b[0;32m<ipython-input-17-9bdbc0cc5545>\u001b[0m in \u001b[0;36m<cell line: 1>\u001b[0;34m()\u001b[0m\n\u001b[0;32m----> 1\u001b[0;31m \u001b[0mkmeans\u001b[0m\u001b[0;34m.\u001b[0m\u001b[0mto_gbq\u001b[0m\u001b[0;34m(\u001b[0m\u001b[0;34mf\"{PROJECT_ID}.{DATASET_NAME}.{MODEL_NAME}\"\u001b[0m\u001b[0;34m,\u001b[0m \u001b[0;32mTrue\u001b[0m\u001b[0;34m)\u001b[0m\u001b[0;34m\u001b[0m\u001b[0;34m\u001b[0m\u001b[0m\n\u001b[0m",
            "\u001b[0;32m/usr/local/lib/python3.10/dist-packages/bigframes/core/log_adapter.py\u001b[0m in \u001b[0;36mwrapper\u001b[0;34m(*args, **kwargs)\u001b[0m\n\u001b[1;32m     54\u001b[0m \u001b[0;34m\u001b[0m\u001b[0m\n\u001b[1;32m     55\u001b[0m         \u001b[0;32mtry\u001b[0m\u001b[0;34m:\u001b[0m\u001b[0;34m\u001b[0m\u001b[0;34m\u001b[0m\u001b[0m\n\u001b[0;32m---> 56\u001b[0;31m             \u001b[0;32mreturn\u001b[0m \u001b[0mmethod\u001b[0m\u001b[0;34m(\u001b[0m\u001b[0;34m*\u001b[0m\u001b[0margs\u001b[0m\u001b[0;34m,\u001b[0m \u001b[0;34m**\u001b[0m\u001b[0mkwargs\u001b[0m\u001b[0;34m)\u001b[0m\u001b[0;34m\u001b[0m\u001b[0;34m\u001b[0m\u001b[0m\n\u001b[0m\u001b[1;32m     57\u001b[0m         \u001b[0;32mfinally\u001b[0m\u001b[0;34m:\u001b[0m\u001b[0;34m\u001b[0m\u001b[0;34m\u001b[0m\u001b[0m\n\u001b[1;32m     58\u001b[0m             \u001b[0m_call_stack\u001b[0m\u001b[0;34m.\u001b[0m\u001b[0mpop\u001b[0m\u001b[0;34m(\u001b[0m\u001b[0;34m)\u001b[0m\u001b[0;34m\u001b[0m\u001b[0;34m\u001b[0m\u001b[0m\n",
            "\u001b[0;32m/usr/local/lib/python3.10/dist-packages/bigframes/ml/cluster.py\u001b[0m in \u001b[0;36mto_gbq\u001b[0;34m(self, model_name, replace)\u001b[0m\n\u001b[1;32m    177\u001b[0m             \u001b[0;32mraise\u001b[0m \u001b[0mRuntimeError\u001b[0m\u001b[0;34m(\u001b[0m\u001b[0;34m\"A model must be fitted before it can be saved\"\u001b[0m\u001b[0;34m)\u001b[0m\u001b[0;34m\u001b[0m\u001b[0;34m\u001b[0m\u001b[0m\n\u001b[1;32m    178\u001b[0m \u001b[0;34m\u001b[0m\u001b[0m\n\u001b[0;32m--> 179\u001b[0;31m         \u001b[0mnew_model\u001b[0m \u001b[0;34m=\u001b[0m \u001b[0mself\u001b[0m\u001b[0;34m.\u001b[0m\u001b[0m_bqml_model\u001b[0m\u001b[0;34m.\u001b[0m\u001b[0mcopy\u001b[0m\u001b[0;34m(\u001b[0m\u001b[0mmodel_name\u001b[0m\u001b[0;34m,\u001b[0m \u001b[0mreplace\u001b[0m\u001b[0;34m)\u001b[0m\u001b[0;34m\u001b[0m\u001b[0;34m\u001b[0m\u001b[0m\n\u001b[0m\u001b[1;32m    180\u001b[0m         \u001b[0;32mreturn\u001b[0m \u001b[0mnew_model\u001b[0m\u001b[0;34m.\u001b[0m\u001b[0msession\u001b[0m\u001b[0;34m.\u001b[0m\u001b[0mread_gbq_model\u001b[0m\u001b[0;34m(\u001b[0m\u001b[0mmodel_name\u001b[0m\u001b[0;34m)\u001b[0m\u001b[0;34m\u001b[0m\u001b[0;34m\u001b[0m\u001b[0m\n\u001b[1;32m    181\u001b[0m \u001b[0;34m\u001b[0m\u001b[0m\n",
            "\u001b[0;32m/usr/local/lib/python3.10/dist-packages/bigframes/ml/core.py\u001b[0m in \u001b[0;36mcopy\u001b[0;34m(self, new_model_name, replace)\u001b[0m\n\u001b[1;32m    232\u001b[0m             \u001b[0mjob_config\u001b[0m\u001b[0;34m.\u001b[0m\u001b[0mwrite_disposition\u001b[0m \u001b[0;34m=\u001b[0m \u001b[0;34m\"WRITE_TRUNCATE\"\u001b[0m\u001b[0;34m\u001b[0m\u001b[0;34m\u001b[0m\u001b[0m\n\u001b[1;32m    233\u001b[0m \u001b[0;34m\u001b[0m\u001b[0m\n\u001b[0;32m--> 234\u001b[0;31m         copy_job = self._session.bqclient.copy_table(\n\u001b[0m\u001b[1;32m    235\u001b[0m             \u001b[0mself\u001b[0m\u001b[0;34m.\u001b[0m\u001b[0mmodel_name\u001b[0m\u001b[0;34m,\u001b[0m \u001b[0mnew_model_name\u001b[0m\u001b[0;34m,\u001b[0m \u001b[0mjob_config\u001b[0m\u001b[0;34m=\u001b[0m\u001b[0mjob_config\u001b[0m\u001b[0;34m\u001b[0m\u001b[0;34m\u001b[0m\u001b[0m\n\u001b[1;32m    236\u001b[0m         )\n",
            "\u001b[0;32m/usr/local/lib/python3.10/dist-packages/google/cloud/bigquery/client.py\u001b[0m in \u001b[0;36mcopy_table\u001b[0;34m(self, sources, destination, job_id, job_id_prefix, location, project, job_config, retry, timeout)\u001b[0m\n\u001b[1;32m   3267\u001b[0m             \u001b[0mjob_ref\u001b[0m\u001b[0;34m,\u001b[0m \u001b[0msources\u001b[0m\u001b[0;34m,\u001b[0m \u001b[0mdestination\u001b[0m\u001b[0;34m,\u001b[0m \u001b[0mclient\u001b[0m\u001b[0;34m=\u001b[0m\u001b[0mself\u001b[0m\u001b[0;34m,\u001b[0m \u001b[0mjob_config\u001b[0m\u001b[0;34m=\u001b[0m\u001b[0mjob_config\u001b[0m\u001b[0;34m\u001b[0m\u001b[0;34m\u001b[0m\u001b[0m\n\u001b[1;32m   3268\u001b[0m         )\n\u001b[0;32m-> 3269\u001b[0;31m         \u001b[0mcopy_job\u001b[0m\u001b[0;34m.\u001b[0m\u001b[0m_begin\u001b[0m\u001b[0;34m(\u001b[0m\u001b[0mretry\u001b[0m\u001b[0;34m=\u001b[0m\u001b[0mretry\u001b[0m\u001b[0;34m,\u001b[0m \u001b[0mtimeout\u001b[0m\u001b[0;34m=\u001b[0m\u001b[0mtimeout\u001b[0m\u001b[0;34m)\u001b[0m\u001b[0;34m\u001b[0m\u001b[0;34m\u001b[0m\u001b[0m\n\u001b[0m\u001b[1;32m   3270\u001b[0m \u001b[0;34m\u001b[0m\u001b[0m\n\u001b[1;32m   3271\u001b[0m         \u001b[0;32mreturn\u001b[0m \u001b[0mcopy_job\u001b[0m\u001b[0;34m\u001b[0m\u001b[0;34m\u001b[0m\u001b[0m\n",
            "\u001b[0;32m/usr/local/lib/python3.10/dist-packages/google/cloud/bigquery/job/base.py\u001b[0m in \u001b[0;36m_begin\u001b[0;34m(self, client, retry, timeout)\u001b[0m\n\u001b[1;32m    741\u001b[0m         \u001b[0;31m# job has an ID.\u001b[0m\u001b[0;34m\u001b[0m\u001b[0;34m\u001b[0m\u001b[0m\n\u001b[1;32m    742\u001b[0m         \u001b[0mspan_attributes\u001b[0m \u001b[0;34m=\u001b[0m \u001b[0;34m{\u001b[0m\u001b[0;34m\"path\"\u001b[0m\u001b[0;34m:\u001b[0m \u001b[0mpath\u001b[0m\u001b[0;34m}\u001b[0m\u001b[0;34m\u001b[0m\u001b[0;34m\u001b[0m\u001b[0m\n\u001b[0;32m--> 743\u001b[0;31m         api_response = client._call_api(\n\u001b[0m\u001b[1;32m    744\u001b[0m             \u001b[0mretry\u001b[0m\u001b[0;34m,\u001b[0m\u001b[0;34m\u001b[0m\u001b[0;34m\u001b[0m\u001b[0m\n\u001b[1;32m    745\u001b[0m             \u001b[0mspan_name\u001b[0m\u001b[0;34m=\u001b[0m\u001b[0;34m\"BigQuery.job.begin\"\u001b[0m\u001b[0;34m,\u001b[0m\u001b[0;34m\u001b[0m\u001b[0;34m\u001b[0m\u001b[0m\n",
            "\u001b[0;32m/usr/local/lib/python3.10/dist-packages/google/cloud/bigquery/client.py\u001b[0m in \u001b[0;36m_call_api\u001b[0;34m(self, retry, span_name, span_attributes, job_ref, headers, **kwargs)\u001b[0m\n\u001b[1;32m    831\u001b[0m                 \u001b[0mname\u001b[0m\u001b[0;34m=\u001b[0m\u001b[0mspan_name\u001b[0m\u001b[0;34m,\u001b[0m \u001b[0mattributes\u001b[0m\u001b[0;34m=\u001b[0m\u001b[0mspan_attributes\u001b[0m\u001b[0;34m,\u001b[0m \u001b[0mclient\u001b[0m\u001b[0;34m=\u001b[0m\u001b[0mself\u001b[0m\u001b[0;34m,\u001b[0m \u001b[0mjob_ref\u001b[0m\u001b[0;34m=\u001b[0m\u001b[0mjob_ref\u001b[0m\u001b[0;34m\u001b[0m\u001b[0;34m\u001b[0m\u001b[0m\n\u001b[1;32m    832\u001b[0m             ):\n\u001b[0;32m--> 833\u001b[0;31m                 \u001b[0;32mreturn\u001b[0m \u001b[0mcall\u001b[0m\u001b[0;34m(\u001b[0m\u001b[0;34m)\u001b[0m\u001b[0;34m\u001b[0m\u001b[0;34m\u001b[0m\u001b[0m\n\u001b[0m\u001b[1;32m    834\u001b[0m \u001b[0;34m\u001b[0m\u001b[0m\n\u001b[1;32m    835\u001b[0m         \u001b[0;32mreturn\u001b[0m \u001b[0mcall\u001b[0m\u001b[0;34m(\u001b[0m\u001b[0;34m)\u001b[0m\u001b[0;34m\u001b[0m\u001b[0;34m\u001b[0m\u001b[0m\n",
            "\u001b[0;32m/usr/local/lib/python3.10/dist-packages/google/api_core/retry/retry_unary.py\u001b[0m in \u001b[0;36mretry_wrapped_func\u001b[0;34m(*args, **kwargs)\u001b[0m\n\u001b[1;32m    291\u001b[0m                 \u001b[0mself\u001b[0m\u001b[0;34m.\u001b[0m\u001b[0m_initial\u001b[0m\u001b[0;34m,\u001b[0m \u001b[0mself\u001b[0m\u001b[0;34m.\u001b[0m\u001b[0m_maximum\u001b[0m\u001b[0;34m,\u001b[0m \u001b[0mmultiplier\u001b[0m\u001b[0;34m=\u001b[0m\u001b[0mself\u001b[0m\u001b[0;34m.\u001b[0m\u001b[0m_multiplier\u001b[0m\u001b[0;34m\u001b[0m\u001b[0;34m\u001b[0m\u001b[0m\n\u001b[1;32m    292\u001b[0m             )\n\u001b[0;32m--> 293\u001b[0;31m             return retry_target(\n\u001b[0m\u001b[1;32m    294\u001b[0m                 \u001b[0mtarget\u001b[0m\u001b[0;34m,\u001b[0m\u001b[0;34m\u001b[0m\u001b[0;34m\u001b[0m\u001b[0m\n\u001b[1;32m    295\u001b[0m                 \u001b[0mself\u001b[0m\u001b[0;34m.\u001b[0m\u001b[0m_predicate\u001b[0m\u001b[0;34m,\u001b[0m\u001b[0;34m\u001b[0m\u001b[0;34m\u001b[0m\u001b[0m\n",
            "\u001b[0;32m/usr/local/lib/python3.10/dist-packages/google/api_core/retry/retry_unary.py\u001b[0m in \u001b[0;36mretry_target\u001b[0;34m(target, predicate, sleep_generator, timeout, on_error, exception_factory, **kwargs)\u001b[0m\n\u001b[1;32m    151\u001b[0m         \u001b[0;32mexcept\u001b[0m \u001b[0mException\u001b[0m \u001b[0;32mas\u001b[0m \u001b[0mexc\u001b[0m\u001b[0;34m:\u001b[0m\u001b[0;34m\u001b[0m\u001b[0;34m\u001b[0m\u001b[0m\n\u001b[1;32m    152\u001b[0m             \u001b[0;31m# defer to shared logic for handling errors\u001b[0m\u001b[0;34m\u001b[0m\u001b[0;34m\u001b[0m\u001b[0m\n\u001b[0;32m--> 153\u001b[0;31m             _retry_error_helper(\n\u001b[0m\u001b[1;32m    154\u001b[0m                 \u001b[0mexc\u001b[0m\u001b[0;34m,\u001b[0m\u001b[0;34m\u001b[0m\u001b[0;34m\u001b[0m\u001b[0m\n\u001b[1;32m    155\u001b[0m                 \u001b[0mdeadline\u001b[0m\u001b[0;34m,\u001b[0m\u001b[0;34m\u001b[0m\u001b[0;34m\u001b[0m\u001b[0m\n",
            "\u001b[0;32m/usr/local/lib/python3.10/dist-packages/google/api_core/retry/retry_base.py\u001b[0m in \u001b[0;36m_retry_error_helper\u001b[0;34m(exc, deadline, next_sleep, error_list, predicate_fn, on_error_fn, exc_factory_fn, original_timeout)\u001b[0m\n\u001b[1;32m    210\u001b[0m             \u001b[0moriginal_timeout\u001b[0m\u001b[0;34m,\u001b[0m\u001b[0;34m\u001b[0m\u001b[0;34m\u001b[0m\u001b[0m\n\u001b[1;32m    211\u001b[0m         )\n\u001b[0;32m--> 212\u001b[0;31m         \u001b[0;32mraise\u001b[0m \u001b[0mfinal_exc\u001b[0m \u001b[0;32mfrom\u001b[0m \u001b[0msource_exc\u001b[0m\u001b[0;34m\u001b[0m\u001b[0;34m\u001b[0m\u001b[0m\n\u001b[0m\u001b[1;32m    213\u001b[0m     \u001b[0;32mif\u001b[0m \u001b[0mon_error_fn\u001b[0m \u001b[0;32mis\u001b[0m \u001b[0;32mnot\u001b[0m \u001b[0;32mNone\u001b[0m\u001b[0;34m:\u001b[0m\u001b[0;34m\u001b[0m\u001b[0;34m\u001b[0m\u001b[0m\n\u001b[1;32m    214\u001b[0m         \u001b[0mon_error_fn\u001b[0m\u001b[0;34m(\u001b[0m\u001b[0mexc\u001b[0m\u001b[0;34m)\u001b[0m\u001b[0;34m\u001b[0m\u001b[0;34m\u001b[0m\u001b[0m\n",
            "\u001b[0;32m/usr/local/lib/python3.10/dist-packages/google/api_core/retry/retry_unary.py\u001b[0m in \u001b[0;36mretry_target\u001b[0;34m(target, predicate, sleep_generator, timeout, on_error, exception_factory, **kwargs)\u001b[0m\n\u001b[1;32m    142\u001b[0m     \u001b[0;32mfor\u001b[0m \u001b[0msleep\u001b[0m \u001b[0;32min\u001b[0m \u001b[0msleep_generator\u001b[0m\u001b[0;34m:\u001b[0m\u001b[0;34m\u001b[0m\u001b[0;34m\u001b[0m\u001b[0m\n\u001b[1;32m    143\u001b[0m         \u001b[0;32mtry\u001b[0m\u001b[0;34m:\u001b[0m\u001b[0;34m\u001b[0m\u001b[0;34m\u001b[0m\u001b[0m\n\u001b[0;32m--> 144\u001b[0;31m             \u001b[0mresult\u001b[0m \u001b[0;34m=\u001b[0m \u001b[0mtarget\u001b[0m\u001b[0;34m(\u001b[0m\u001b[0;34m)\u001b[0m\u001b[0;34m\u001b[0m\u001b[0;34m\u001b[0m\u001b[0m\n\u001b[0m\u001b[1;32m    145\u001b[0m             \u001b[0;32mif\u001b[0m \u001b[0minspect\u001b[0m\u001b[0;34m.\u001b[0m\u001b[0misawaitable\u001b[0m\u001b[0;34m(\u001b[0m\u001b[0mresult\u001b[0m\u001b[0;34m)\u001b[0m\u001b[0;34m:\u001b[0m\u001b[0;34m\u001b[0m\u001b[0;34m\u001b[0m\u001b[0m\n\u001b[1;32m    146\u001b[0m                 \u001b[0mwarnings\u001b[0m\u001b[0;34m.\u001b[0m\u001b[0mwarn\u001b[0m\u001b[0;34m(\u001b[0m\u001b[0m_ASYNC_RETRY_WARNING\u001b[0m\u001b[0;34m)\u001b[0m\u001b[0;34m\u001b[0m\u001b[0;34m\u001b[0m\u001b[0m\n",
            "\u001b[0;32m/usr/local/lib/python3.10/dist-packages/google/cloud/_http/__init__.py\u001b[0m in \u001b[0;36mapi_request\u001b[0;34m(self, method, path, query_params, data, content_type, headers, api_base_url, api_version, expect_json, _target_object, timeout, extra_api_info)\u001b[0m\n\u001b[1;32m    492\u001b[0m \u001b[0;34m\u001b[0m\u001b[0m\n\u001b[1;32m    493\u001b[0m         \u001b[0;32mif\u001b[0m \u001b[0;32mnot\u001b[0m \u001b[0;36m200\u001b[0m \u001b[0;34m<=\u001b[0m \u001b[0mresponse\u001b[0m\u001b[0;34m.\u001b[0m\u001b[0mstatus_code\u001b[0m \u001b[0;34m<\u001b[0m \u001b[0;36m300\u001b[0m\u001b[0;34m:\u001b[0m\u001b[0;34m\u001b[0m\u001b[0;34m\u001b[0m\u001b[0m\n\u001b[0;32m--> 494\u001b[0;31m             \u001b[0;32mraise\u001b[0m \u001b[0mexceptions\u001b[0m\u001b[0;34m.\u001b[0m\u001b[0mfrom_http_response\u001b[0m\u001b[0;34m(\u001b[0m\u001b[0mresponse\u001b[0m\u001b[0;34m)\u001b[0m\u001b[0;34m\u001b[0m\u001b[0;34m\u001b[0m\u001b[0m\n\u001b[0m\u001b[1;32m    495\u001b[0m \u001b[0;34m\u001b[0m\u001b[0m\n\u001b[1;32m    496\u001b[0m         \u001b[0;32mif\u001b[0m \u001b[0mexpect_json\u001b[0m \u001b[0;32mand\u001b[0m \u001b[0mresponse\u001b[0m\u001b[0;34m.\u001b[0m\u001b[0mcontent\u001b[0m\u001b[0;34m:\u001b[0m\u001b[0;34m\u001b[0m\u001b[0;34m\u001b[0m\u001b[0m\n",
            "\u001b[0;31mNotFound\u001b[0m: 404 POST https://bigquery.googleapis.com/bigquery/v2/projects/airy-ranger-437306-b3/jobs?prettyPrint=false: Not found: Dataset airy-ranger-437306-b3:theLook_retail"
          ]
        }
      ]
    },
    {
      "cell_type": "markdown",
      "source": [
        "#### **Visualize the clusters**\n",
        "\n",
        "Next we'll visualize the k-means clusters on a scatterplot. We'll chart `days_since_last_order` by `average_spend` and color by segment/cluster_id generated from the model."
      ],
      "metadata": {
        "id": "81nwv2QE-mlh"
      }
    },
    {
      "cell_type": "code",
      "source": [
        "#########################\n",
        "#Plot K-Means clusters\n",
        "#########################\n",
        "import seaborn as sns\n",
        "import matplotlib.pyplot as plt\n",
        "import pandas as pd\n",
        "\n",
        "# Import K-Means predictions to dataframe\n",
        "segments_df = kmeans.predict(df_customer)\n",
        "segments_df = segments_df.rename(columns={'CENTROID_ID': 'segment_id'})\n",
        "segments_pd = segments_df.sample(frac=0.2, random_state=1).to_pandas()\n",
        "\n",
        "segments_pd\n"
      ],
      "metadata": {
        "id": "Ld5HJJlKGlXK",
        "colab": {
          "base_uri": "https://localhost:8080/",
          "height": 490
        },
        "executionInfo": {
          "status": "ok",
          "timestamp": 1728367017635,
          "user_tz": -240,
          "elapsed": 12832,
          "user": {
            "displayName": "",
            "userId": ""
          }
        },
        "outputId": "c98f7f20-4009-4907-f915-c09870a7204a"
      },
      "execution_count": 18,
      "outputs": [
        {
          "output_type": "display_data",
          "data": {
            "text/plain": [
              "<IPython.core.display.HTML object>"
            ],
            "text/html": [
              "Query job 6f9b65ad-23a3-4cfc-99c0-d584dcf8a4a7 is DONE. 561.2 kB processed. <a target=\"_blank\" href=\"https://console.cloud.google.com/bigquery?project=airy-ranger-437306-b3&j=bq:US:6f9b65ad-23a3-4cfc-99c0-d584dcf8a4a7&page=queryresults\">Open Job</a>"
            ]
          },
          "metadata": {}
        },
        {
          "output_type": "display_data",
          "data": {
            "text/plain": [
              "<IPython.core.display.HTML object>"
            ],
            "text/html": [
              "Query job cc44897f-b744-468c-ae97-1bf782e014bd is DONE. 2.1 MB processed. <a target=\"_blank\" href=\"https://console.cloud.google.com/bigquery?project=airy-ranger-437306-b3&j=bq:US:cc44897f-b744-468c-ae97-1bf782e014bd&page=queryresults\">Open Job</a>"
            ]
          },
          "metadata": {}
        },
        {
          "output_type": "execute_result",
          "data": {
            "text/plain": [
              "         segment_id                         NEAREST_CENTROIDS_DISTANCE  \\\n",
              "user_id                                                                  \n",
              "143               2  [{'CENTROID_ID': 2, 'DISTANCE': 1.675555923807...   \n",
              "99383             3  [{'CENTROID_ID': 3, 'DISTANCE': 1.821595421551...   \n",
              "96571             4  [{'CENTROID_ID': 4, 'DISTANCE': 1.756145058764...   \n",
              "45048             1  [{'CENTROID_ID': 1, 'DISTANCE': 0.528608028567...   \n",
              "64629             3  [{'CENTROID_ID': 3, 'DISTANCE': 0.861375345972...   \n",
              "...             ...                                                ...   \n",
              "46910             4  [{'CENTROID_ID': 4, 'DISTANCE': 2.037124278023...   \n",
              "21838             3  [{'CENTROID_ID': 3, 'DISTANCE': 1.073905114658...   \n",
              "68017             3  [{'CENTROID_ID': 3, 'DISTANCE': 0.763904420878...   \n",
              "39246             3  [{'CENTROID_ID': 3, 'DISTANCE': 0.504175757496...   \n",
              "93539             4  [{'CENTROID_ID': 4, 'DISTANCE': 1.660048286789...   \n",
              "\n",
              "         count_orders  average_spend  return_ratio  \n",
              "user_id                                             \n",
              "143                 1     107.949997           0.0  \n",
              "99383               2      37.140001           0.0  \n",
              "96571               4      96.122499           0.0  \n",
              "45048               2      68.969999           1.0  \n",
              "64629               2          36.85           0.0  \n",
              "...               ...            ...           ...  \n",
              "46910               5         149.78           0.0  \n",
              "21838               1          26.99           0.0  \n",
              "68017               1           65.0           0.0  \n",
              "39246               1           48.0           0.0  \n",
              "93539               3      41.053333           0.0  \n",
              "\n",
              "[3506 rows x 5 columns]"
            ],
            "text/html": [
              "\n",
              "  <div id=\"df-27961d9e-e167-49c6-9835-6f1d981c33f6\" class=\"colab-df-container\">\n",
              "    <div>\n",
              "<style scoped>\n",
              "    .dataframe tbody tr th:only-of-type {\n",
              "        vertical-align: middle;\n",
              "    }\n",
              "\n",
              "    .dataframe tbody tr th {\n",
              "        vertical-align: top;\n",
              "    }\n",
              "\n",
              "    .dataframe thead th {\n",
              "        text-align: right;\n",
              "    }\n",
              "</style>\n",
              "<table border=\"1\" class=\"dataframe\">\n",
              "  <thead>\n",
              "    <tr style=\"text-align: right;\">\n",
              "      <th></th>\n",
              "      <th>segment_id</th>\n",
              "      <th>NEAREST_CENTROIDS_DISTANCE</th>\n",
              "      <th>count_orders</th>\n",
              "      <th>average_spend</th>\n",
              "      <th>return_ratio</th>\n",
              "    </tr>\n",
              "    <tr>\n",
              "      <th>user_id</th>\n",
              "      <th></th>\n",
              "      <th></th>\n",
              "      <th></th>\n",
              "      <th></th>\n",
              "      <th></th>\n",
              "    </tr>\n",
              "  </thead>\n",
              "  <tbody>\n",
              "    <tr>\n",
              "      <th>143</th>\n",
              "      <td>2</td>\n",
              "      <td>[{'CENTROID_ID': 2, 'DISTANCE': 1.675555923807...</td>\n",
              "      <td>1</td>\n",
              "      <td>107.949997</td>\n",
              "      <td>0.0</td>\n",
              "    </tr>\n",
              "    <tr>\n",
              "      <th>99383</th>\n",
              "      <td>3</td>\n",
              "      <td>[{'CENTROID_ID': 3, 'DISTANCE': 1.821595421551...</td>\n",
              "      <td>2</td>\n",
              "      <td>37.140001</td>\n",
              "      <td>0.0</td>\n",
              "    </tr>\n",
              "    <tr>\n",
              "      <th>96571</th>\n",
              "      <td>4</td>\n",
              "      <td>[{'CENTROID_ID': 4, 'DISTANCE': 1.756145058764...</td>\n",
              "      <td>4</td>\n",
              "      <td>96.122499</td>\n",
              "      <td>0.0</td>\n",
              "    </tr>\n",
              "    <tr>\n",
              "      <th>45048</th>\n",
              "      <td>1</td>\n",
              "      <td>[{'CENTROID_ID': 1, 'DISTANCE': 0.528608028567...</td>\n",
              "      <td>2</td>\n",
              "      <td>68.969999</td>\n",
              "      <td>1.0</td>\n",
              "    </tr>\n",
              "    <tr>\n",
              "      <th>64629</th>\n",
              "      <td>3</td>\n",
              "      <td>[{'CENTROID_ID': 3, 'DISTANCE': 0.861375345972...</td>\n",
              "      <td>2</td>\n",
              "      <td>36.85</td>\n",
              "      <td>0.0</td>\n",
              "    </tr>\n",
              "    <tr>\n",
              "      <th>...</th>\n",
              "      <td>...</td>\n",
              "      <td>...</td>\n",
              "      <td>...</td>\n",
              "      <td>...</td>\n",
              "      <td>...</td>\n",
              "    </tr>\n",
              "    <tr>\n",
              "      <th>46910</th>\n",
              "      <td>4</td>\n",
              "      <td>[{'CENTROID_ID': 4, 'DISTANCE': 2.037124278023...</td>\n",
              "      <td>5</td>\n",
              "      <td>149.78</td>\n",
              "      <td>0.0</td>\n",
              "    </tr>\n",
              "    <tr>\n",
              "      <th>21838</th>\n",
              "      <td>3</td>\n",
              "      <td>[{'CENTROID_ID': 3, 'DISTANCE': 1.073905114658...</td>\n",
              "      <td>1</td>\n",
              "      <td>26.99</td>\n",
              "      <td>0.0</td>\n",
              "    </tr>\n",
              "    <tr>\n",
              "      <th>68017</th>\n",
              "      <td>3</td>\n",
              "      <td>[{'CENTROID_ID': 3, 'DISTANCE': 0.763904420878...</td>\n",
              "      <td>1</td>\n",
              "      <td>65.0</td>\n",
              "      <td>0.0</td>\n",
              "    </tr>\n",
              "    <tr>\n",
              "      <th>39246</th>\n",
              "      <td>3</td>\n",
              "      <td>[{'CENTROID_ID': 3, 'DISTANCE': 0.504175757496...</td>\n",
              "      <td>1</td>\n",
              "      <td>48.0</td>\n",
              "      <td>0.0</td>\n",
              "    </tr>\n",
              "    <tr>\n",
              "      <th>93539</th>\n",
              "      <td>4</td>\n",
              "      <td>[{'CENTROID_ID': 4, 'DISTANCE': 1.660048286789...</td>\n",
              "      <td>3</td>\n",
              "      <td>41.053333</td>\n",
              "      <td>0.0</td>\n",
              "    </tr>\n",
              "  </tbody>\n",
              "</table>\n",
              "<p>3506 rows × 5 columns</p>\n",
              "</div>\n",
              "    <div class=\"colab-df-buttons\">\n",
              "\n",
              "  <div class=\"colab-df-container\">\n",
              "    <button class=\"colab-df-convert\" onclick=\"convertToInteractive('df-27961d9e-e167-49c6-9835-6f1d981c33f6')\"\n",
              "            title=\"Convert this dataframe to an interactive table.\"\n",
              "            style=\"display:none;\">\n",
              "\n",
              "  <svg xmlns=\"http://www.w3.org/2000/svg\" height=\"24px\" viewBox=\"0 -960 960 960\">\n",
              "    <path d=\"M120-120v-720h720v720H120Zm60-500h600v-160H180v160Zm220 220h160v-160H400v160Zm0 220h160v-160H400v160ZM180-400h160v-160H180v160Zm440 0h160v-160H620v160ZM180-180h160v-160H180v160Zm440 0h160v-160H620v160Z\"/>\n",
              "  </svg>\n",
              "    </button>\n",
              "\n",
              "  <style>\n",
              "    .colab-df-container {\n",
              "      display:flex;\n",
              "      gap: 12px;\n",
              "    }\n",
              "\n",
              "    .colab-df-convert {\n",
              "      background-color: #E8F0FE;\n",
              "      border: none;\n",
              "      border-radius: 50%;\n",
              "      cursor: pointer;\n",
              "      display: none;\n",
              "      fill: #1967D2;\n",
              "      height: 32px;\n",
              "      padding: 0 0 0 0;\n",
              "      width: 32px;\n",
              "    }\n",
              "\n",
              "    .colab-df-convert:hover {\n",
              "      background-color: #E2EBFA;\n",
              "      box-shadow: 0px 1px 2px rgba(60, 64, 67, 0.3), 0px 1px 3px 1px rgba(60, 64, 67, 0.15);\n",
              "      fill: #174EA6;\n",
              "    }\n",
              "\n",
              "    .colab-df-buttons div {\n",
              "      margin-bottom: 4px;\n",
              "    }\n",
              "\n",
              "    [theme=dark] .colab-df-convert {\n",
              "      background-color: #3B4455;\n",
              "      fill: #D2E3FC;\n",
              "    }\n",
              "\n",
              "    [theme=dark] .colab-df-convert:hover {\n",
              "      background-color: #434B5C;\n",
              "      box-shadow: 0px 1px 3px 1px rgba(0, 0, 0, 0.15);\n",
              "      filter: drop-shadow(0px 1px 2px rgba(0, 0, 0, 0.3));\n",
              "      fill: #FFFFFF;\n",
              "    }\n",
              "  </style>\n",
              "\n",
              "    <script>\n",
              "      const buttonEl =\n",
              "        document.querySelector('#df-27961d9e-e167-49c6-9835-6f1d981c33f6 button.colab-df-convert');\n",
              "      buttonEl.style.display =\n",
              "        google.colab.kernel.accessAllowed ? 'block' : 'none';\n",
              "\n",
              "      async function convertToInteractive(key) {\n",
              "        const element = document.querySelector('#df-27961d9e-e167-49c6-9835-6f1d981c33f6');\n",
              "        const dataTable =\n",
              "          await google.colab.kernel.invokeFunction('convertToInteractive',\n",
              "                                                    [key], {});\n",
              "        if (!dataTable) return;\n",
              "\n",
              "        const docLinkHtml = 'Like what you see? Visit the ' +\n",
              "          '<a target=\"_blank\" href=https://colab.research.google.com/notebooks/data_table.ipynb>data table notebook</a>'\n",
              "          + ' to learn more about interactive tables.';\n",
              "        element.innerHTML = '';\n",
              "        dataTable['output_type'] = 'display_data';\n",
              "        await google.colab.output.renderOutput(dataTable, element);\n",
              "        const docLink = document.createElement('div');\n",
              "        docLink.innerHTML = docLinkHtml;\n",
              "        element.appendChild(docLink);\n",
              "      }\n",
              "    </script>\n",
              "  </div>\n",
              "\n",
              "\n",
              "<div id=\"df-049536f9-94a3-45b7-88cf-3f6a015ddea0\">\n",
              "  <button class=\"colab-df-quickchart\" onclick=\"quickchart('df-049536f9-94a3-45b7-88cf-3f6a015ddea0')\"\n",
              "            title=\"Suggest charts\"\n",
              "            style=\"display:none;\">\n",
              "\n",
              "<svg xmlns=\"http://www.w3.org/2000/svg\" height=\"24px\"viewBox=\"0 0 24 24\"\n",
              "     width=\"24px\">\n",
              "    <g>\n",
              "        <path d=\"M19 3H5c-1.1 0-2 .9-2 2v14c0 1.1.9 2 2 2h14c1.1 0 2-.9 2-2V5c0-1.1-.9-2-2-2zM9 17H7v-7h2v7zm4 0h-2V7h2v10zm4 0h-2v-4h2v4z\"/>\n",
              "    </g>\n",
              "</svg>\n",
              "  </button>\n",
              "\n",
              "<style>\n",
              "  .colab-df-quickchart {\n",
              "      --bg-color: #E8F0FE;\n",
              "      --fill-color: #1967D2;\n",
              "      --hover-bg-color: #E2EBFA;\n",
              "      --hover-fill-color: #174EA6;\n",
              "      --disabled-fill-color: #AAA;\n",
              "      --disabled-bg-color: #DDD;\n",
              "  }\n",
              "\n",
              "  [theme=dark] .colab-df-quickchart {\n",
              "      --bg-color: #3B4455;\n",
              "      --fill-color: #D2E3FC;\n",
              "      --hover-bg-color: #434B5C;\n",
              "      --hover-fill-color: #FFFFFF;\n",
              "      --disabled-bg-color: #3B4455;\n",
              "      --disabled-fill-color: #666;\n",
              "  }\n",
              "\n",
              "  .colab-df-quickchart {\n",
              "    background-color: var(--bg-color);\n",
              "    border: none;\n",
              "    border-radius: 50%;\n",
              "    cursor: pointer;\n",
              "    display: none;\n",
              "    fill: var(--fill-color);\n",
              "    height: 32px;\n",
              "    padding: 0;\n",
              "    width: 32px;\n",
              "  }\n",
              "\n",
              "  .colab-df-quickchart:hover {\n",
              "    background-color: var(--hover-bg-color);\n",
              "    box-shadow: 0 1px 2px rgba(60, 64, 67, 0.3), 0 1px 3px 1px rgba(60, 64, 67, 0.15);\n",
              "    fill: var(--button-hover-fill-color);\n",
              "  }\n",
              "\n",
              "  .colab-df-quickchart-complete:disabled,\n",
              "  .colab-df-quickchart-complete:disabled:hover {\n",
              "    background-color: var(--disabled-bg-color);\n",
              "    fill: var(--disabled-fill-color);\n",
              "    box-shadow: none;\n",
              "  }\n",
              "\n",
              "  .colab-df-spinner {\n",
              "    border: 2px solid var(--fill-color);\n",
              "    border-color: transparent;\n",
              "    border-bottom-color: var(--fill-color);\n",
              "    animation:\n",
              "      spin 1s steps(1) infinite;\n",
              "  }\n",
              "\n",
              "  @keyframes spin {\n",
              "    0% {\n",
              "      border-color: transparent;\n",
              "      border-bottom-color: var(--fill-color);\n",
              "      border-left-color: var(--fill-color);\n",
              "    }\n",
              "    20% {\n",
              "      border-color: transparent;\n",
              "      border-left-color: var(--fill-color);\n",
              "      border-top-color: var(--fill-color);\n",
              "    }\n",
              "    30% {\n",
              "      border-color: transparent;\n",
              "      border-left-color: var(--fill-color);\n",
              "      border-top-color: var(--fill-color);\n",
              "      border-right-color: var(--fill-color);\n",
              "    }\n",
              "    40% {\n",
              "      border-color: transparent;\n",
              "      border-right-color: var(--fill-color);\n",
              "      border-top-color: var(--fill-color);\n",
              "    }\n",
              "    60% {\n",
              "      border-color: transparent;\n",
              "      border-right-color: var(--fill-color);\n",
              "    }\n",
              "    80% {\n",
              "      border-color: transparent;\n",
              "      border-right-color: var(--fill-color);\n",
              "      border-bottom-color: var(--fill-color);\n",
              "    }\n",
              "    90% {\n",
              "      border-color: transparent;\n",
              "      border-bottom-color: var(--fill-color);\n",
              "    }\n",
              "  }\n",
              "</style>\n",
              "\n",
              "  <script>\n",
              "    async function quickchart(key) {\n",
              "      const quickchartButtonEl =\n",
              "        document.querySelector('#' + key + ' button');\n",
              "      quickchartButtonEl.disabled = true;  // To prevent multiple clicks.\n",
              "      quickchartButtonEl.classList.add('colab-df-spinner');\n",
              "      try {\n",
              "        const charts = await google.colab.kernel.invokeFunction(\n",
              "            'suggestCharts', [key], {});\n",
              "      } catch (error) {\n",
              "        console.error('Error during call to suggestCharts:', error);\n",
              "      }\n",
              "      quickchartButtonEl.classList.remove('colab-df-spinner');\n",
              "      quickchartButtonEl.classList.add('colab-df-quickchart-complete');\n",
              "    }\n",
              "    (() => {\n",
              "      let quickchartButtonEl =\n",
              "        document.querySelector('#df-049536f9-94a3-45b7-88cf-3f6a015ddea0 button');\n",
              "      quickchartButtonEl.style.display =\n",
              "        google.colab.kernel.accessAllowed ? 'block' : 'none';\n",
              "    })();\n",
              "  </script>\n",
              "</div>\n",
              "    </div>\n",
              "  </div>\n"
            ]
          },
          "metadata": {},
          "execution_count": 18
        }
      ]
    },
    {
      "cell_type": "markdown",
      "source": [
        "#### **Generate scatterplot to display clusters**"
      ],
      "metadata": {
        "id": "CKIhpH9kPXNQ"
      }
    },
    {
      "cell_type": "code",
      "source": [
        "g = sns.lmplot(x='count_orders', y='average_spend', data=segments_pd, fit_reg=False, hue='segment_id', palette='Set2', height=7, aspect=2)\n",
        "g = (g.set_axis_labels('Count Orders','Average Spend ($)', fontsize=15).set(xlim=(0,10),ylim=(0,400)))\n",
        "plt.title('Attribute Grouped by K-means Cluster', pad=20, fontsize=20)"
      ],
      "metadata": {
        "id": "WH8s_tULGyf5",
        "colab": {
          "base_uri": "https://localhost:8080/",
          "height": 751
        },
        "executionInfo": {
          "status": "ok",
          "timestamp": 1728367050487,
          "user_tz": -240,
          "elapsed": 1206,
          "user": {
            "displayName": "",
            "userId": ""
          }
        },
        "outputId": "33e82338-7721-465e-a2fc-b89e67a0ac56"
      },
      "execution_count": 19,
      "outputs": [
        {
          "output_type": "execute_result",
          "data": {
            "text/plain": [
              "Text(0.5, 1.0, 'Attribute Grouped by K-means Cluster')"
            ]
          },
          "metadata": {},
          "execution_count": 19
        },
        {
          "output_type": "display_data",
          "data": {
            "text/plain": [
              "<Figure size 1491.61x700 with 1 Axes>"
            ],
            "image/png": "[encoded data removed]"
          },
          "metadata": {}
        }
      ]
    },
    {
      "cell_type": "markdown",
      "source": [
        "#### **Cluster Summary Statistics**\n",
        "\n",
        "The visualization helped us see distinct clusters. Now let's generate some summary statistics around order recency, frequency, and spend by cluster."
      ],
      "metadata": {
        "id": "yh1_PqPvIalu"
      }
    },
    {
      "cell_type": "code",
      "source": [
        "df_centroid = kmeans.cluster_centers_\n",
        "df_centroid"
      ],
      "metadata": {
        "id": "UmEsjTfeIueR",
        "colab": {
          "base_uri": "https://localhost:8080/",
          "height": 810
        },
        "executionInfo": {
          "status": "ok",
          "timestamp": 1728367073380,
          "user_tz": -240,
          "elapsed": 11864,
          "user": {
            "displayName": "",
            "userId": ""
          }
        },
        "outputId": "a708dea2-e856-454d-aa5c-1fe3600b6d72"
      },
      "execution_count": 20,
      "outputs": [
        {
          "output_type": "display_data",
          "data": {
            "text/plain": [
              "<IPython.core.display.HTML object>"
            ],
            "text/html": [
              "Query job 5b98adee-e541-44e8-a865-784cdd6eb2a1 is RUNNING. <a target=\"_blank\" href=\"https://console.cloud.google.com/bigquery?project=airy-ranger-437306-b3&j=bq:US:5b98adee-e541-44e8-a865-784cdd6eb2a1&page=queryresults\">Open Job</a>"
            ]
          },
          "metadata": {}
        },
        {
          "output_type": "display_data",
          "data": {
            "text/plain": [
              "<IPython.core.display.HTML object>"
            ],
            "text/html": [
              "Query job 0ab225fc-358a-421a-b0f7-6227adc108af is DONE. 312 Bytes processed. <a target=\"_blank\" href=\"https://console.cloud.google.com/bigquery?project=airy-ranger-437306-b3&j=bq:US:0ab225fc-358a-421a-b0f7-6227adc108af&page=queryresults\">Open Job</a>"
            ]
          },
          "metadata": {}
        },
        {
          "output_type": "display_data",
          "data": {
            "text/plain": [
              "<IPython.core.display.HTML object>"
            ],
            "text/html": [
              "Query job 9cda2f8c-1972-4e47-b47b-9f86023f9494 is DONE. 0 Bytes processed. <a target=\"_blank\" href=\"https://console.cloud.google.com/bigquery?project=airy-ranger-437306-b3&j=bq:US:9cda2f8c-1972-4e47-b47b-9f86023f9494&page=queryresults\">Open Job</a>"
            ]
          },
          "metadata": {}
        },
        {
          "output_type": "display_data",
          "data": {
            "text/plain": [
              "<IPython.core.display.HTML object>"
            ],
            "text/html": [
              "Query job ce1cdcab-671a-439d-8843-eb6ce8aba1e8 is DONE. 0 Bytes processed. <a target=\"_blank\" href=\"https://console.cloud.google.com/bigquery?project=airy-ranger-437306-b3&j=bq:US:ce1cdcab-671a-439d-8843-eb6ce8aba1e8&page=queryresults\">Open Job</a>"
            ]
          },
          "metadata": {}
        },
        {
          "output_type": "display_data",
          "data": {
            "text/plain": [
              "<IPython.core.display.HTML object>"
            ],
            "text/html": [
              "Query job 79c36e19-658d-4172-8b1f-b447e734c2c8 is DONE. 0 Bytes processed. <a target=\"_blank\" href=\"https://console.cloud.google.com/bigquery?project=airy-ranger-437306-b3&j=bq:US:79c36e19-658d-4172-8b1f-b447e734c2c8&page=queryresults\">Open Job</a>"
            ]
          },
          "metadata": {}
        },
        {
          "output_type": "execute_result",
          "data": {
            "text/plain": [
              "    centroid_id        feature  numerical_value categorical_value\n",
              "0             1  average_spend        55.865272                []\n",
              "1             1   count_orders          1.60724                []\n",
              "2             1   return_ratio         0.940631                []\n",
              "3             1        user_id     50960.928279                []\n",
              "4             2  average_spend       147.353455                []\n",
              "5             2   count_orders         1.280992                []\n",
              "6             2   return_ratio          0.00487                []\n",
              "7             2        user_id     43661.065525                []\n",
              "8             3  average_spend        40.175267                []\n",
              "9             3   count_orders         1.259377                []\n",
              "10            3   return_ratio             -0.0                []\n",
              "11            3        user_id     51210.828938                []\n",
              "12            4  average_spend        57.569304                []\n",
              "13            4   count_orders         3.683868                []\n",
              "14            4   return_ratio         0.027237                []\n",
              "15            4        user_id      50569.36022                []\n",
              "16            5  average_spend       520.917066                []\n",
              "17            5   count_orders         1.211268                []\n",
              "18            5   return_ratio         0.112676                []\n",
              "19            5        user_id     53093.309859                []\n",
              "\n",
              "[20 rows x 4 columns]"
            ],
            "text/html": [
              "<div>\n",
              "<style scoped>\n",
              "    .dataframe tbody tr th:only-of-type {\n",
              "        vertical-align: middle;\n",
              "    }\n",
              "\n",
              "    .dataframe tbody tr th {\n",
              "        vertical-align: top;\n",
              "    }\n",
              "\n",
              "    .dataframe thead th {\n",
              "        text-align: right;\n",
              "    }\n",
              "</style>\n",
              "<table border=\"1\" class=\"dataframe\">\n",
              "  <thead>\n",
              "    <tr style=\"text-align: right;\">\n",
              "      <th></th>\n",
              "      <th>centroid_id</th>\n",
              "      <th>feature</th>\n",
              "      <th>numerical_value</th>\n",
              "      <th>categorical_value</th>\n",
              "    </tr>\n",
              "  </thead>\n",
              "  <tbody>\n",
              "    <tr>\n",
              "      <th>0</th>\n",
              "      <td>1</td>\n",
              "      <td>average_spend</td>\n",
              "      <td>55.865272</td>\n",
              "      <td>[]</td>\n",
              "    </tr>\n",
              "    <tr>\n",
              "      <th>1</th>\n",
              "      <td>1</td>\n",
              "      <td>count_orders</td>\n",
              "      <td>1.60724</td>\n",
              "      <td>[]</td>\n",
              "    </tr>\n",
              "    <tr>\n",
              "      <th>2</th>\n",
              "      <td>1</td>\n",
              "      <td>return_ratio</td>\n",
              "      <td>0.940631</td>\n",
              "      <td>[]</td>\n",
              "    </tr>\n",
              "    <tr>\n",
              "      <th>3</th>\n",
              "      <td>1</td>\n",
              "      <td>user_id</td>\n",
              "      <td>50960.928279</td>\n",
              "      <td>[]</td>\n",
              "    </tr>\n",
              "    <tr>\n",
              "      <th>4</th>\n",
              "      <td>2</td>\n",
              "      <td>average_spend</td>\n",
              "      <td>147.353455</td>\n",
              "      <td>[]</td>\n",
              "    </tr>\n",
              "    <tr>\n",
              "      <th>5</th>\n",
              "      <td>2</td>\n",
              "      <td>count_orders</td>\n",
              "      <td>1.280992</td>\n",
              "      <td>[]</td>\n",
              "    </tr>\n",
              "    <tr>\n",
              "      <th>6</th>\n",
              "      <td>2</td>\n",
              "      <td>return_ratio</td>\n",
              "      <td>0.00487</td>\n",
              "      <td>[]</td>\n",
              "    </tr>\n",
              "    <tr>\n",
              "      <th>7</th>\n",
              "      <td>2</td>\n",
              "      <td>user_id</td>\n",
              "      <td>43661.065525</td>\n",
              "      <td>[]</td>\n",
              "    </tr>\n",
              "    <tr>\n",
              "      <th>8</th>\n",
              "      <td>3</td>\n",
              "      <td>average_spend</td>\n",
              "      <td>40.175267</td>\n",
              "      <td>[]</td>\n",
              "    </tr>\n",
              "    <tr>\n",
              "      <th>9</th>\n",
              "      <td>3</td>\n",
              "      <td>count_orders</td>\n",
              "      <td>1.259377</td>\n",
              "      <td>[]</td>\n",
              "    </tr>\n",
              "    <tr>\n",
              "      <th>10</th>\n",
              "      <td>3</td>\n",
              "      <td>return_ratio</td>\n",
              "      <td>-0.0</td>\n",
              "      <td>[]</td>\n",
              "    </tr>\n",
              "    <tr>\n",
              "      <th>11</th>\n",
              "      <td>3</td>\n",
              "      <td>user_id</td>\n",
              "      <td>51210.828938</td>\n",
              "      <td>[]</td>\n",
              "    </tr>\n",
              "    <tr>\n",
              "      <th>12</th>\n",
              "      <td>4</td>\n",
              "      <td>average_spend</td>\n",
              "      <td>57.569304</td>\n",
              "      <td>[]</td>\n",
              "    </tr>\n",
              "    <tr>\n",
              "      <th>13</th>\n",
              "      <td>4</td>\n",
              "      <td>count_orders</td>\n",
              "      <td>3.683868</td>\n",
              "      <td>[]</td>\n",
              "    </tr>\n",
              "    <tr>\n",
              "      <th>14</th>\n",
              "      <td>4</td>\n",
              "      <td>return_ratio</td>\n",
              "      <td>0.027237</td>\n",
              "      <td>[]</td>\n",
              "    </tr>\n",
              "    <tr>\n",
              "      <th>15</th>\n",
              "      <td>4</td>\n",
              "      <td>user_id</td>\n",
              "      <td>50569.36022</td>\n",
              "      <td>[]</td>\n",
              "    </tr>\n",
              "    <tr>\n",
              "      <th>16</th>\n",
              "      <td>5</td>\n",
              "      <td>average_spend</td>\n",
              "      <td>520.917066</td>\n",
              "      <td>[]</td>\n",
              "    </tr>\n",
              "    <tr>\n",
              "      <th>17</th>\n",
              "      <td>5</td>\n",
              "      <td>count_orders</td>\n",
              "      <td>1.211268</td>\n",
              "      <td>[]</td>\n",
              "    </tr>\n",
              "    <tr>\n",
              "      <th>18</th>\n",
              "      <td>5</td>\n",
              "      <td>return_ratio</td>\n",
              "      <td>0.112676</td>\n",
              "      <td>[]</td>\n",
              "    </tr>\n",
              "    <tr>\n",
              "      <th>19</th>\n",
              "      <td>5</td>\n",
              "      <td>user_id</td>\n",
              "      <td>53093.309859</td>\n",
              "      <td>[]</td>\n",
              "    </tr>\n",
              "  </tbody>\n",
              "</table>\n",
              "<p>20 rows × 4 columns</p>\n",
              "</div>[20 rows x 4 columns in total]"
            ]
          },
          "metadata": {},
          "execution_count": 20
        }
      ]
    },
    {
      "cell_type": "code",
      "source": [
        "df_centroid_pivot = df_centroid.pivot(index='centroid_id', columns='feature', values='numerical_value')\n",
        "df_centroid_pivot"
      ],
      "metadata": {
        "id": "FzVxofIPJ5zQ",
        "colab": {
          "base_uri": "https://localhost:8080/",
          "height": 354
        },
        "executionInfo": {
          "status": "ok",
          "timestamp": 1728367085754,
          "user_tz": -240,
          "elapsed": 9826,
          "user": {
            "displayName": "",
            "userId": ""
          }
        },
        "outputId": "e00d13cc-c5de-4469-9fdc-e3a14b427bf6"
      },
      "execution_count": 21,
      "outputs": [
        {
          "output_type": "display_data",
          "data": {
            "text/plain": [
              "<IPython.core.display.HTML object>"
            ],
            "text/html": [
              "Query job fb55d091-e331-42e7-ae30-513549a6fbe7 is DONE. 580 Bytes processed. <a target=\"_blank\" href=\"https://console.cloud.google.com/bigquery?project=airy-ranger-437306-b3&j=bq:US:fb55d091-e331-42e7-ae30-513549a6fbe7&page=queryresults\">Open Job</a>"
            ]
          },
          "metadata": {}
        },
        {
          "output_type": "display_data",
          "data": {
            "text/plain": [
              "<IPython.core.display.HTML object>"
            ],
            "text/html": [
              "Query job a3bce61b-35f9-4b87-b847-f76f547e4a54 is DONE. 580 Bytes processed. <a target=\"_blank\" href=\"https://console.cloud.google.com/bigquery?project=airy-ranger-437306-b3&j=bq:US:a3bce61b-35f9-4b87-b847-f76f547e4a54&page=queryresults\">Open Job</a>"
            ]
          },
          "metadata": {}
        },
        {
          "output_type": "display_data",
          "data": {
            "text/plain": [
              "<IPython.core.display.HTML object>"
            ],
            "text/html": [
              "Query job 88489016-3e98-4bea-953c-78f9b3ba4917 is DONE. 240 Bytes processed. <a target=\"_blank\" href=\"https://console.cloud.google.com/bigquery?project=airy-ranger-437306-b3&j=bq:US:88489016-3e98-4bea-953c-78f9b3ba4917&page=queryresults\">Open Job</a>"
            ]
          },
          "metadata": {}
        },
        {
          "output_type": "display_data",
          "data": {
            "text/plain": [
              "<IPython.core.display.HTML object>"
            ],
            "text/html": [
              "Query job 8ac20767-f3c6-49cc-9f3e-a0a6fe3d14ff is DONE. 240 Bytes processed. <a target=\"_blank\" href=\"https://console.cloud.google.com/bigquery?project=airy-ranger-437306-b3&j=bq:US:8ac20767-f3c6-49cc-9f3e-a0a6fe3d14ff&page=queryresults\">Open Job</a>"
            ]
          },
          "metadata": {}
        },
        {
          "output_type": "execute_result",
          "data": {
            "text/plain": [
              "feature      average_spend  count_orders  return_ratio       user_id\n",
              "centroid_id                                                         \n",
              "1                55.865272       1.60724      0.940631  50960.928279\n",
              "2               147.353455      1.280992       0.00487  43661.065525\n",
              "3                40.175267      1.259377          -0.0  51210.828938\n",
              "4                57.569304      3.683868      0.027237   50569.36022\n",
              "5               520.917066      1.211268      0.112676  53093.309859\n",
              "\n",
              "[5 rows x 4 columns]"
            ],
            "text/html": [
              "<div>\n",
              "<style scoped>\n",
              "    .dataframe tbody tr th:only-of-type {\n",
              "        vertical-align: middle;\n",
              "    }\n",
              "\n",
              "    .dataframe tbody tr th {\n",
              "        vertical-align: top;\n",
              "    }\n",
              "\n",
              "    .dataframe thead th {\n",
              "        text-align: right;\n",
              "    }\n",
              "</style>\n",
              "<table border=\"1\" class=\"dataframe\">\n",
              "  <thead>\n",
              "    <tr style=\"text-align: right;\">\n",
              "      <th>feature</th>\n",
              "      <th>average_spend</th>\n",
              "      <th>count_orders</th>\n",
              "      <th>return_ratio</th>\n",
              "      <th>user_id</th>\n",
              "    </tr>\n",
              "    <tr>\n",
              "      <th>centroid_id</th>\n",
              "      <th></th>\n",
              "      <th></th>\n",
              "      <th></th>\n",
              "      <th></th>\n",
              "    </tr>\n",
              "  </thead>\n",
              "  <tbody>\n",
              "    <tr>\n",
              "      <th>1</th>\n",
              "      <td>55.865272</td>\n",
              "      <td>1.60724</td>\n",
              "      <td>0.940631</td>\n",
              "      <td>50960.928279</td>\n",
              "    </tr>\n",
              "    <tr>\n",
              "      <th>2</th>\n",
              "      <td>147.353455</td>\n",
              "      <td>1.280992</td>\n",
              "      <td>0.00487</td>\n",
              "      <td>43661.065525</td>\n",
              "    </tr>\n",
              "    <tr>\n",
              "      <th>3</th>\n",
              "      <td>40.175267</td>\n",
              "      <td>1.259377</td>\n",
              "      <td>-0.0</td>\n",
              "      <td>51210.828938</td>\n",
              "    </tr>\n",
              "    <tr>\n",
              "      <th>4</th>\n",
              "      <td>57.569304</td>\n",
              "      <td>3.683868</td>\n",
              "      <td>0.027237</td>\n",
              "      <td>50569.36022</td>\n",
              "    </tr>\n",
              "    <tr>\n",
              "      <th>5</th>\n",
              "      <td>520.917066</td>\n",
              "      <td>1.211268</td>\n",
              "      <td>0.112676</td>\n",
              "      <td>53093.309859</td>\n",
              "    </tr>\n",
              "  </tbody>\n",
              "</table>\n",
              "<p>5 rows × 4 columns</p>\n",
              "</div>[5 rows x 4 columns in total]"
            ]
          },
          "metadata": {},
          "execution_count": 21
        }
      ]
    },
    {
      "cell_type": "markdown",
      "source": [
        "#### **Summary Statistics**\n",
        "Whew! That's a lot of metrics and cluster info. How about we explain this to our colleagues using the magic of LLMs.\n",
        "\n",
        "Let's begin by creating a string with the summary statistics from the last cell."
      ],
      "metadata": {
        "id": "9Ey4aZIEMykc"
      }
    },
    {
      "cell_type": "code",
      "source": [
        "pd_df = df_centroid_pivot.reset_index().to_pandas()\n",
        "pd_df.to_string(header=False, index=False)\n",
        "\n",
        "cluster_info = []\n",
        "for i, row in pd_df.iterrows():\n",
        "  cluster_info.append(\"{0}, average spend ${2}, count of orders per person {1}, return ratio {3}\"\n",
        "    .format(row[\"centroid_id\"], row[\"count_orders\"], row[\"average_spend\"], row[\"return_ratio\"]) )\n",
        "\n",
        "print(str.join(\"\\n\", cluster_info))"
      ],
      "metadata": {
        "id": "XB8SdzclMxUx",
        "colab": {
          "base_uri": "https://localhost:8080/",
          "height": 121
        },
        "executionInfo": {
          "status": "ok",
          "timestamp": 1728367090453,
          "user_tz": -240,
          "elapsed": 2448,
          "user": {
            "displayName": "",
            "userId": ""
          }
        },
        "outputId": "f5ea9a06-2a61-4ee9-ed35-7a423e11940c"
      },
      "execution_count": 22,
      "outputs": [
        {
          "output_type": "display_data",
          "data": {
            "text/plain": [
              "<IPython.core.display.HTML object>"
            ],
            "text/html": [
              "Query job 3a6d958d-a957-41a3-acbe-f51109849651 is DONE. 240 Bytes processed. <a target=\"_blank\" href=\"https://console.cloud.google.com/bigquery?project=airy-ranger-437306-b3&j=bq:US:3a6d958d-a957-41a3-acbe-f51109849651&page=queryresults\">Open Job</a>"
            ]
          },
          "metadata": {}
        },
        {
          "output_type": "stream",
          "name": "stdout",
          "text": [
            "1, average spend $55.86527217475389, count of orders per person 1.607240437158471, return ratio 0.9406306921675947\n",
            "2, average spend $147.35345526709898, count of orders per person 1.2809917355371974, return ratio 0.004870129870133799\n",
            "3, average spend $40.17526717411397, count of orders per person 1.2593771311661337, return ratio -1.5376588891058418e-14\n",
            "4, average spend $57.56930435927655, count of orders per person 3.683867735470935, return ratio 0.02723681489964415\n",
            "5, average spend $520.917066251728, count of orders per person 1.2112676056338032, return ratio 0.11267605633802817\n"
          ]
        }
      ]
    },
    {
      "cell_type": "markdown",
      "source": [
        "## Step 4 : Generative AI - Explain customer segments with Vertex AI PaLM API\n",
        "\n",
        "To leverage Large Language Models directly from BigQuery, we will specify a [BigQuery connection](https://cloud.google.com/bigquery/docs/working-with-connections). If you already have a connection, you can simplify provide the name and skip the following creation steps"
      ],
      "metadata": {
        "id": "7Na0_rVVLhOk"
      }
    },
    {
      "cell_type": "code",
      "source": [
        "# Please fill in these values.\n",
        "CONNECTION = \"bq-llm\"  # @param {type:\"string\"}\n",
        "\n",
        "connection_name = f\"{PROJECT_ID}.{LOCATION}.{CONNECTION}\""
      ],
      "metadata": {
        "id": "W13HyzWX0I-F",
        "executionInfo": {
          "status": "ok",
          "timestamp": 1728367121782,
          "user_tz": -240,
          "elapsed": 441,
          "user": {
            "displayName": "",
            "userId": ""
          }
        }
      },
      "execution_count": 23,
      "outputs": []
    },
    {
      "cell_type": "markdown",
      "source": [
        "#### **BigQuery Connection Setup**\n",
        "BigQuery lets you interact with services outside of BigQuery in Google Cloud services like Cloud Storage or Cloud Spanner, or in third-party sources like AWS or Azure. These external connections use the BigQuery Connection API.\n",
        "\n",
        "In this case, we interact with Vertex AI Large Language models using Connection API.\n",
        "\n",
        "In following cell, we try to use the provided connection, and if it doesn't exist, create a new one. We will also print the service account used.\n",
        "\n",
        "Note : You may require additional permissions as [documented here](https://cloud.google.com/bigquery/docs/working-with-connections#expandable-1) to perform following step."
      ],
      "metadata": {
        "id": "EtiHiulOEd8R"
      }
    },
    {
      "cell_type": "code",
      "source": [
        "from google.cloud import bigquery_connection_v1 as bq_connection\n",
        "from bigframes.ml.llm import PaLM2TextGenerator\n",
        "session = bpd.get_global_session()"
      ],
      "metadata": {
        "id": "sIqdPAl44JQc",
        "executionInfo": {
          "status": "ok",
          "timestamp": 1728367126211,
          "user_tz": -240,
          "elapsed": 284,
          "user": {
            "displayName": "",
            "userId": ""
          }
        }
      },
      "execution_count": 24,
      "outputs": []
    },
    {
      "cell_type": "code",
      "source": [
        "# Initialize client and set request parameters\n",
        "client = bq_connection.ConnectionServiceClient()\n",
        "new_conn_parent = f\"projects/{PROJECT_ID}/locations/{LOCATION}\"\n",
        "exists_conn_parent = f\"projects/{PROJECT_ID}/locations/{LOCATION}/connections/{CONNECTION}\"\n",
        "cloud_resource_properties = bq_connection.CloudResourceProperties({})\n",
        "\n",
        "# Try to connect using provided connection\n",
        "try:\n",
        "    request = client.get_connection(\n",
        "        request=bq_connection.GetConnectionRequest(name=exists_conn_parent)\n",
        "    )\n",
        "    CONN_SERVICE_ACCOUNT = f\"serviceAccount:{request.cloud_resource.service_account_id}\"\n",
        "# Create a new connection on error\n",
        "except Exception:\n",
        "    connection = bq_connection.types.Connection(\n",
        "        {\"friendly_name\": CONNECTION, \"cloud_resource\": cloud_resource_properties}\n",
        "    )\n",
        "    request = bq_connection.CreateConnectionRequest(\n",
        "        {\n",
        "            \"parent\": new_conn_parent,\n",
        "            \"connection_id\": CONNECTION,\n",
        "            \"connection\": connection,\n",
        "        }\n",
        "    )\n",
        "    response = client.create_connection(request)\n",
        "    CONN_SERVICE_ACCOUNT = (\n",
        "        f\"serviceAccount:{response.cloud_resource.service_account_id}\"\n",
        "    )\n",
        "# Set service account permissions\n",
        "!gcloud projects add-iam-policy-binding {PROJECT_ID} --condition=None --no-user-output-enabled --member={CONN_SERVICE_ACCOUNT} --role='roles/bigquery.connectionUser'\n",
        "!gcloud projects add-iam-policy-binding {PROJECT_ID} --condition=None --no-user-output-enabled --member={CONN_SERVICE_ACCOUNT} --role='roles/aiplatform.user'\n",
        "!gcloud projects add-iam-policy-binding {PROJECT_ID} --condition=None --no-user-output-enabled --member={CONN_SERVICE_ACCOUNT} --role='roles/run.invoker'\n",
        "\n",
        "print(CONN_SERVICE_ACCOUNT)"
      ],
      "metadata": {
        "id": "V8iLYPrX3opw",
        "colab": {
          "base_uri": "https://localhost:8080/"
        },
        "executionInfo": {
          "status": "ok",
          "timestamp": 1728367141635,
          "user_tz": -240,
          "elapsed": 9742,
          "user": {
            "displayName": "",
            "userId": ""
          }
        },
        "outputId": "014dca3c-7943-4ce7-ffd8-227f3df6216e"
      },
      "execution_count": 25,
      "outputs": [
        {
          "output_type": "stream",
          "name": "stdout",
          "text": [
            "serviceAccount:bqcx-556457767677-o6d5@gcp-sa-bigquery-condel.iam.gserviceaccount.com\n"
          ]
        }
      ]
    },
    {
      "cell_type": "markdown",
      "source": [
        "The resource connection service account requires certain project-level permissions:\n",
        "\n",
        "`roles/aiplatform.user` and `roles/bigquery.connectionUser`: These roles are required for the connection to create a model definition using the LLM model in Vertex AI ([documentation](https://cloud.google.com/bigquery/docs/generate-text#give_the_service_account_access)).\n",
        "roles/run.invoker: This role is required for the connection to have read-only access to Cloud Run services that back custom/remote functions ([documentation](https://cloud.google.com/bigquery/docs/remote-functions#grant_permission_on_function))."
      ],
      "metadata": {
        "id": "j2x4dhJ8Fhtc"
      }
    },
    {
      "cell_type": "markdown",
      "source": [
        "#### **Define the Large Language model using BigFrames**\n",
        "\n",
        "Use bigframes.ml.llm to define the model and get BigFrames session\n"
      ],
      "metadata": {
        "id": "-ay0KygzF_Q1"
      }
    },
    {
      "cell_type": "markdown",
      "source": [
        "#### **Create a Prompt**\n",
        "For each cluster, ask the LLM to act as a brand strategist and generate the following:\n",
        "* Title\n",
        "* Persona\n",
        "* Next Marketing Step"
      ],
      "metadata": {
        "id": "tdoRB7RjLso6"
      }
    },
    {
      "cell_type": "code",
      "source": [
        "model = PaLM2TextGenerator(session=session, connection_name=connection_name)"
      ],
      "metadata": {
        "id": "7J22pFpewG-M",
        "colab": {
          "base_uri": "https://localhost:8080/",
          "height": 89
        },
        "executionInfo": {
          "status": "ok",
          "timestamp": 1728367315718,
          "user_tz": -240,
          "elapsed": 3830,
          "user": {
            "displayName": "",
            "userId": ""
          }
        },
        "outputId": "fa27e704-484e-4fab-95f1-be432a808f97"
      },
      "execution_count": 31,
      "outputs": [
        {
          "output_type": "stream",
          "name": "stderr",
          "text": [
            "<ipython-input-31-4d0f5ed8e2c8>:1: ApiDeprecationWarning: PaLM2TextGenerator is going to be deprecated. Use GeminiTextGenerator(https://cloud.google.com/python/docs/reference/bigframes/latest/bigframes.ml.llm.GeminiTextGenerator) instead. \n",
            "  model = PaLM2TextGenerator(session=session, connection_name=connection_name)\n"
          ]
        },
        {
          "output_type": "display_data",
          "data": {
            "text/plain": [
              "<IPython.core.display.HTML object>"
            ],
            "text/html": [
              "Query job 5a876de8-1335-4121-98b2-9fc1f3f2a49d is DONE. 0 Bytes processed. <a target=\"_blank\" href=\"https://console.cloud.google.com/bigquery?project=airy-ranger-437306-b3&j=bq:US:5a876de8-1335-4121-98b2-9fc1f3f2a49d&page=queryresults\">Open Job</a>"
            ]
          },
          "metadata": {}
        }
      ]
    },
    {
      "cell_type": "code",
      "source": [
        "clusters = str.join(\"\\n\", cluster_info)\n",
        "\n",
        "prompt = f\"\"\"\n",
        "You're a creative brand strategist, given the following clusters, come up with \\\n",
        "creative brand persona, a catchy title, and next marketing action, \\\n",
        "explained step by step.\n",
        "\n",
        "Clusters:\n",
        "{clusters}\n",
        "\n",
        "For each Cluster:\n",
        "* Title:\n",
        "* Persona:\n",
        "* Next Marketing Step:\n",
        "\"\"\"\n",
        "\n"
      ],
      "metadata": {
        "id": "MYwQNH0ELu9y",
        "executionInfo": {
          "status": "ok",
          "timestamp": 1728367319817,
          "user_tz": -240,
          "elapsed": 366,
          "user": {
            "displayName": "",
            "userId": ""
          }
        }
      },
      "execution_count": 32,
      "outputs": []
    },
    {
      "cell_type": "markdown",
      "source": [
        "#### **Prediction using Large Language model**"
      ],
      "metadata": {
        "id": "X7wyE30HP4-U"
      }
    },
    {
      "cell_type": "code",
      "source": [
        "prompt_df = bpd.read_pandas(pd.DataFrame({'prompt': [prompt]}))\n",
        "pred = model.predict(prompt_df, max_output_tokens=1024, temperature=0.55, top_p=0.8, top_k=40)\n",
        "print(pred.iloc[0,0])"
      ],
      "metadata": {
        "id": "wumJXJv2Qqg_",
        "colab": {
          "base_uri": "https://localhost:8080/",
          "height": 801
        },
        "executionInfo": {
          "status": "ok",
          "timestamp": 1728367340186,
          "user_tz": -240,
          "elapsed": 17469,
          "user": {
            "displayName": "",
            "userId": ""
          }
        },
        "outputId": "8ca9fc8f-0e64-4c1c-ff93-5dafd4ec5499"
      },
      "execution_count": 33,
      "outputs": [
        {
          "output_type": "display_data",
          "data": {
            "text/plain": [
              "<IPython.core.display.HTML object>"
            ],
            "text/html": [
              "Query job c61d9cf3-5ebe-4e52-9a5d-5ca536b0ec00 is DONE. 0 Bytes processed. <a target=\"_blank\" href=\"https://console.cloud.google.com/bigquery?project=airy-ranger-437306-b3&j=bq:US:c61d9cf3-5ebe-4e52-9a5d-5ca536b0ec00&page=queryresults\">Open Job</a>"
            ]
          },
          "metadata": {}
        },
        {
          "output_type": "stream",
          "name": "stderr",
          "text": [
            "/usr/local/lib/python3.10/dist-packages/bigframes/core/__init__.py:112: PreviewWarning: Interpreting JSON column(s) as StringDtype. This behavior may change in future versions.\n",
            "  warnings.warn(\n"
          ]
        },
        {
          "output_type": "display_data",
          "data": {
            "text/plain": [
              "<IPython.core.display.HTML object>"
            ],
            "text/html": [
              "Query job 9aafbf50-439f-45d7-a6ac-46688febe505 is DONE. 2 Bytes processed. <a target=\"_blank\" href=\"https://console.cloud.google.com/bigquery?project=airy-ranger-437306-b3&j=bq:US:9aafbf50-439f-45d7-a6ac-46688febe505&page=queryresults\">Open Job</a>"
            ]
          },
          "metadata": {}
        },
        {
          "output_type": "display_data",
          "data": {
            "text/plain": [
              "<IPython.core.display.HTML object>"
            ],
            "text/html": [
              "Query job 2dbea3d3-f478-4526-9364-1710eebbc708 is DONE. 2.3 kB processed. <a target=\"_blank\" href=\"https://console.cloud.google.com/bigquery?project=airy-ranger-437306-b3&j=bq:US:2dbea3d3-f478-4526-9364-1710eebbc708&page=queryresults\">Open Job</a>"
            ]
          },
          "metadata": {}
        },
        {
          "output_type": "stream",
          "name": "stdout",
          "text": [
            " **Cluster 1**\n",
            "\n",
            "**Title:** The Occasional Shoppers\n",
            "\n",
            "**Persona:** These customers make infrequent purchases, but when they do, they tend to spend a moderate amount. They are likely to be budget-conscious and may be more price-sensitive than other clusters.\n",
            "\n",
            "**Next Marketing Step:** Offer discounts or promotions to encourage these customers to make more frequent purchases. You could also try to upsell them on higher-priced items or offer them free shipping on orders over a certain amount.\n",
            "\n",
            "**Cluster 2**\n",
            "\n",
            "**Title:** The Loyalists\n",
            "\n",
            "**Persona:** These customers are your bread and butter. They make frequent purchases and spend a significant amount of money each time. They are likely to be brand loyal and may be willing to pay a premium for your products.\n",
            "\n",
            "**Next Marketing Step:** Continue to provide excellent customer service and offer loyalty rewards to keep these customers happy. You could also try to cross-sell them on other products or services that they may be interested in.\n",
            "\n",
            "**Cluster 3**\n",
            "\n",
            "**Title:** The Bargain Hunters\n",
            "\n",
            "**Persona:** These customers are looking for the best deals possible. They are likely to be price-sensitive and may be more likely to return items.\n",
            "\n",
            "**Next Marketing Step:** Offer discounts or promotions to attract these customers. You could also try to upsell them on higher-priced items or offer them free shipping on orders over a certain amount.\n",
            "\n",
            "**Cluster 4**\n",
            "\n",
            "**Title:** The Frequent Buyers\n",
            "\n",
            "**Persona:** These customers make frequent purchases, but they tend to spend a smaller amount each time. They are likely to be impulse buyers and may be more likely to be influenced by marketing campaigns.\n",
            "\n",
            "**Next Marketing Step:** Use targeted marketing campaigns to reach these customers and encourage them to make more purchases. You could also try to upsell them on higher-priced items or offer them free shipping on orders over a certain amount.\n",
            "\n",
            "**Cluster 5**\n",
            "\n",
            "**Title:** The High Rollers\n",
            "\n",
            "**Persona:** These customers make infrequent purchases, but when they do, they spend a significant amount of money. They are likely to be affluent and may be more willing to pay a premium for your products.\n",
            "\n",
            "**Next Marketing Step:** Offer exclusive discounts or promotions to these customers. You could also try to cross-sell them on other products or services that they may be interested in.\n"
          ]
        }
      ]
    },
    {
      "cell_type": "markdown",
      "source": [
        "**Voila! We've now used k-Means clustering to create groups of spenders and explain their profiles.**"
      ],
      "metadata": {
        "id": "jqC5uUguaunY"
      }
    },
    {
      "cell_type": "markdown",
      "source": [
        "**Congratulations**! You have learned how to use **BigFrames** and manage each step of the process, including gathering data, data manipulation, and querying the LLM."
      ],
      "metadata": {
        "id": "bi8SGY4__aEI"
      }
    },
    {
      "cell_type": "markdown",
      "source": [
        "\n",
        "\n",
        "---\n",
        "\n"
      ],
      "metadata": {
        "id": "oFVRAN2wckHC"
      }
    },
    {
      "cell_type": "markdown",
      "source": [
        "#### **BONUS #1: LLM Prompt Engineering**\n",
        "\n",
        "Sometimes, though, you want a little bit extra.\n",
        "\n",
        "#### **Personalized marketing emails**\n",
        "Think about using Generative AI to also generate personalized marketing emails using witty e-mail headline for marketing campaign targeted to their clusters of customers\n",
        "\n",
        "Reference: [Prompt Generation with Generative AI](https://cloud.google.com/blog/transform/prompt-debunking-five-generative-ai-misconceptions)."
      ],
      "metadata": {
        "id": "5HEVHGmmRyGW"
      }
    },
    {
      "cell_type": "code",
      "source": [
        "cluster_info = str.join('\\n', cluster_info)\n",
        "\n",
        "prompt = f\"\"\"\n",
        "Pretend you're a creative strategist, analyze the following clusters and come up with \\\n",
        "creative brand persona for each that includes the detail of which Taylor Swift song is \\\n",
        "likely to be their favorite, a summary of how this relates to their purchasing behavior, \\\n",
        "and a witty e-mail headline for marketing campaign targeted to their group using \\\n",
        "their predicted favorite song title.\n",
        "\n",
        "Clusters:\n",
        "{cluster_info}\n",
        "\n",
        "\n",
        "For each Cluster:\n",
        "* Cluster:\n",
        "* Interests:\n",
        "* Favorite Taylor Swift Song:\n",
        "* Witty email headline:\n",
        "* Email body:\n",
        "\n",
        "\"\"\"\n"
      ],
      "metadata": {
        "id": "3HgwtN1tR3xQ",
        "executionInfo": {
          "status": "ok",
          "timestamp": 1728367368985,
          "user_tz": -240,
          "elapsed": 503,
          "user": {
            "displayName": "",
            "userId": ""
          }
        }
      },
      "execution_count": 34,
      "outputs": []
    },
    {
      "cell_type": "code",
      "source": [
        "prompt_df = bpd.read_pandas(pd.DataFrame({'prompt': [prompt]}))\n",
        "pred = model.predict(prompt_df, max_output_tokens=1024, temperature=0.55, top_p=0.8, top_k=40)\n",
        "print(pred.iloc[0,0])"
      ],
      "metadata": {
        "id": "PqkskS625o7y",
        "colab": {
          "base_uri": "https://localhost:8080/",
          "height": 853
        },
        "executionInfo": {
          "status": "ok",
          "timestamp": 1728367393784,
          "user_tz": -240,
          "elapsed": 21148,
          "user": {
            "displayName": "",
            "userId": ""
          }
        },
        "outputId": "c92d9332-b166-410d-d84f-33738a8a0b59"
      },
      "execution_count": 35,
      "outputs": [
        {
          "output_type": "display_data",
          "data": {
            "text/plain": [
              "<IPython.core.display.HTML object>"
            ],
            "text/html": [
              "Query job 5176b6ce-2276-47b8-8d8c-209fbb6e0ccc is DONE. 0 Bytes processed. <a target=\"_blank\" href=\"https://console.cloud.google.com/bigquery?project=airy-ranger-437306-b3&j=bq:US:5176b6ce-2276-47b8-8d8c-209fbb6e0ccc&page=queryresults\">Open Job</a>"
            ]
          },
          "metadata": {}
        },
        {
          "output_type": "stream",
          "name": "stderr",
          "text": [
            "/usr/local/lib/python3.10/dist-packages/bigframes/core/__init__.py:112: PreviewWarning: Interpreting JSON column(s) as StringDtype. This behavior may change in future versions.\n",
            "  warnings.warn(\n"
          ]
        },
        {
          "output_type": "display_data",
          "data": {
            "text/plain": [
              "<IPython.core.display.HTML object>"
            ],
            "text/html": [
              "Query job 098eeb55-d44b-4ce4-b48c-d99731fa805b is DONE. 2 Bytes processed. <a target=\"_blank\" href=\"https://console.cloud.google.com/bigquery?project=airy-ranger-437306-b3&j=bq:US:098eeb55-d44b-4ce4-b48c-d99731fa805b&page=queryresults\">Open Job</a>"
            ]
          },
          "metadata": {}
        },
        {
          "output_type": "display_data",
          "data": {
            "text/plain": [
              "<IPython.core.display.HTML object>"
            ],
            "text/html": [
              "Query job 2ea86624-31e8-42ac-acec-7ed4ef72bac6 is DONE. 3.8 kB processed. <a target=\"_blank\" href=\"https://console.cloud.google.com/bigquery?project=airy-ranger-437306-b3&j=bq:US:2ea86624-31e8-42ac-acec-7ed4ef72bac6&page=queryresults\">Open Job</a>"
            ]
          },
          "metadata": {}
        },
        {
          "output_type": "stream",
          "name": "stdout",
          "text": [
            " **Cluster 1:**\n",
            "\n",
            "* **Interests:** Budget-conscious, occasional shoppers who value practicality and affordability.\n",
            "* **Favorite Taylor Swift Song:** \"Shake It Off\"\n",
            "* **Witty email headline:** \"Shake off those shopping worries with our budget-friendly deals!\"\n",
            "* **Email body:** \"Hey there, fellow savvy shopper! We know you love a good deal, so we've got some exciting news for you. Our latest collection offers a wide range of affordable products that won't break the bank. Just like Taylor Swift sings in 'Shake It Off,' you can have all the fun without any of the drama. Check out our selection and treat yourself to something special without feeling guilty. Happy shopping!\"\n",
            "\n",
            "---\n",
            "\n",
            "**Cluster 2:**\n",
            "\n",
            "* **Interests:** High-end shoppers who seek exclusivity and luxury.\n",
            "* **Favorite Taylor Swift Song:** \"Wildest Dreams\"\n",
            "* **Witty email headline:** \"Live your wildest shopping dreams with our exclusive collection!\"\n",
            "* **Email body:** \"Dear discerning shopper, we invite you to indulge in the ultimate shopping experience. Our carefully curated collection features the finest products that exude luxury and sophistication. Just like Taylor Swift sings in 'Wildest Dreams,' you deserve to have the best of the best. Treat yourself to something truly special and let your shopping dreams come true. Explore our collection and discover a world of unparalleled elegance and quality. Happy splurging!\"\n",
            "\n",
            "---\n",
            "\n",
            "**Cluster 3:**\n",
            "\n",
            "* **Interests:** Environmentally conscious shoppers who prioritize sustainability and ethical practices.\n",
            "* **Favorite Taylor Swift Song:** \"Clean\"\n",
            "* **Witty email headline:** \"Clean up your shopping habits with our sustainable picks!\"\n",
            "* **Email body:** \"Hey there, eco-friendly shopper! We're thrilled to introduce our new line of sustainable products that are as kind to the planet as they are to your style. Just like Taylor Swift sings in 'Clean,' you can make a difference while still looking fabulous. Our products are ethically sourced and produced with minimal environmental impact. Join us in making a positive change and embrace a cleaner, greener way of shopping. Explore our collection and discover how you can look good and feel good about your purchases. Happy sustainable shopping!\"\n",
            "\n",
            "---\n",
            "\n",
            "**Cluster 4:**\n",
            "\n",
            "* **Interests:** Frequent shoppers who love discovering new products and experimenting with different styles.\n",
            "* **Favorite Taylor Swift Song:** \"Fearless\"\n",
            "* **Witty email headline:** \"Embrace your fearless shopping spirit with our latest arrivals!\"\n",
            "* **Email body:** \"Attention all adventurous shoppers! Get ready to embark on a thrilling shopping journey with our latest collection. Just like Taylor Swift sings in 'Fearless,' we encourage you to embrace your inner boldness and explore new horizons. Our diverse range of products will ignite your curiosity and inspire you to experiment with different styles. Don't be afraid to step out of your comfort zone and discover hidden gems that will make your heart race. Happy fearless shopping!\"\n",
            "\n",
            "---\n",
            "\n",
            "**Cluster 5:**\n",
            "\n",
            "* **Interests:** Affluent shoppers who seek indulgence and pampering.\n",
            "* **Favorite Taylor Swift Song:** \"Enchanted\"\n",
            "* **Witty email headline:** \"Step into a shopping enchantment with our luxurious offerings!\"\n",
            "* **Email body:** \"Dear esteemed shopper, we invite you to experience the magic of luxury shopping. Our exquisite collection is designed to transport you to a world of enchantment and indulgence. Just like Taylor Swift sings in 'Enchanted,' you deserve to feel like royalty. Surround yourself with the finest products that will elevate your lifestyle and make every shopping moment truly special. Explore our collection and discover a realm where dreams come true and shopping becomes an unforgettable experience. Happy enchanted shopping!\"\n"
          ]
        }
      ]
    },
    {
      "cell_type": "markdown",
      "source": [
        "#### **BONUS #2: Generate Python in your Notebook**\n",
        "\n",
        "If you have Gemini enabled on your project, you can begin to generate Python directly within your Notebook:\n",
        "* Open a new Code cell\n",
        "* Click \"Generate with AI\"\n",
        "* Paste one of the prompts below and hit Enter\n",
        "* Generate Python code should appear in the cell\n"
      ],
      "metadata": {
        "id": "LT8lVXaCGDtK"
      }
    },
    {
      "cell_type": "code",
      "source": [
        "# prompt: 10 random numbers using numpy"
      ],
      "metadata": {
        "id": "zLFewJ8iGbLz"
      },
      "execution_count": null,
      "outputs": []
    },
    {
      "cell_type": "code",
      "source": [
        "# prompt: generate a bigframes dataframe from the table bigquery-public-data.thelook_ecommerce.order_items"
      ],
      "metadata": {
        "id": "ysTumh3TkcYU"
      },
      "execution_count": null,
      "outputs": []
    },
    {
      "cell_type": "code",
      "source": [
        "# prompt: write some sql that queries the table bigquery-public-data.thelook_ecommerce.order_items.  Don't use python. Use %%bigquery."
      ],
      "metadata": {
        "id": "b3J4r9FXmPfs"
      },
      "execution_count": null,
      "outputs": []
    }
  ]
}